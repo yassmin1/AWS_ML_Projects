{
 "cells": [
  {
   "attachments": {},
   "cell_type": "markdown",
   "id": "431f8764-3d2a-494e-9b35-5570124cfb9f",
   "metadata": {},
   "source": [
    "# Problem Statement:\n",
    "\n",
    " ompanies in the USA are open to hiring highly skilled people both locally and internationally.\n",
    "\n",
    "The Immigration and Nationality Act (INA) of the United States allows foreign workers to come to the country to work on a temporary or permanent basis. The act also protects US workers against adverse impacts on their wages or working conditions by ensuring all the safeguards mentioned in the act. Office of Foreign Labor Certification (OFLC) administers this act.\n",
    "\n",
    "The OFLC (Office of Foreign Labor Certification) processed millions of applications for different positions for temporary and permanent labor certifications. There is a percentage increase in the number of applications as compared to previous years. The process of reviewing every case is becoming a tedious task as the number of applicants increases every year. With an increasing number of applicants each year, a machine learning-based solution that can assist in shortlisting candidates with a higher chance of VISA approval is required.\n",
    "\n",
    " EasyVisa has been hired by OFLC to provide data-driven solutions. As a data scientist at EasyVisa, you must analyze the data provided and, using a classification model, make the visa approval process easier.\n",
    "\n",
    " \n"
   ]
  },
  {
   "attachments": {},
   "cell_type": "markdown",
   "id": "3409b342-32c6-45e2-bd46-6cca0f8fbb2c",
   "metadata": {},
   "source": [
    "## Dataset Description:\n",
    "\n",
    "The data contains the different attributes of the employee and the employer. The detailed data dictionary is given below.\n",
    "\n",
    "* case_id: ID of each visa application\n",
    "* continent: Information of continent the employee\n",
    "* education_of_employee: Information of education of the employee\n",
    "* has_job_experience: Does the employee has any job experience? Y= Yes; N = No\n",
    "* requires_job_training: Does the employee require any job training? Y = Yes; N = No\n",
    "* no_of_employees: Number of employees in the employer's company\n",
    "* yr_of_estab: Year in which the employer's company was established\n",
    "* region_of_employment: Information of foreign worker's intended region of employment in the US.\n",
    "* prevailing_wage: Average wage paid to similarly employed workers in a specific occupation in the area of intended employment. The purpose of the prevailing wage is to ensure that the foreign worker is not underpaid compared to other workers offering the same or similar service in the same area of employment.\n",
    "* unit_of_wage: Unit of prevailing wage. Values include Hourly, Weekly, Monthly, and Yearly.\n",
    "* full_time_position: Is the position of work full-time? Y = Full-Time Position; N = Part-Time Position\n",
    "* case_status: Flag indicating if the Visa was certified or denied"
   ]
  },
  {
   "cell_type": "markdown",
   "id": "ef062324-a4fb-474e-aafe-efa14e9abf09",
   "metadata": {
    "tags": []
   },
   "source": [
    "## Data Pre-processing"
   ]
  },
  {
   "cell_type": "markdown",
   "id": "b03f678b-df6a-4659-a1f3-060208a9df8c",
   "metadata": {
    "tags": []
   },
   "source": [
    "#### Import all necessary libraries\n"
   ]
  },
  {
   "cell_type": "code",
   "execution_count": 27,
   "id": "f8cfee78-563d-43ac-b8fe-3d146c04dd86",
   "metadata": {
    "tags": []
   },
   "outputs": [
    {
     "name": "stdout",
     "output_type": "stream",
     "text": [
      "Requirement already satisfied: sklearn in /opt/conda/lib/python3.7/site-packages (0.0.post1)\n",
      "\u001b[33mWARNING: Running pip as the 'root' user can result in broken permissions and conflicting behaviour with the system package manager. It is recommended to use a virtual environment instead: https://pip.pypa.io/warnings/venv\u001b[0m\u001b[33m\n",
      "\u001b[0m sklearn version is 0.22.1\n"
     ]
    }
   ],
   "source": [
    "#!pip install imblearn \n",
    "#!pip install delayed\n",
    "#!pip install --upgrade sklearn\n",
    "#import sklearn\n",
    "#print(f' sklearn version is {sklearn.__version__}')\n"
   ]
  },
  {
   "cell_type": "code",
   "execution_count": 2,
   "id": "d6fe4a28-0f49-41eb-ad3d-5f108c993174",
   "metadata": {
    "tags": []
   },
   "outputs": [],
   "source": [
    "# Packages to process data\n",
    "import pandas as pd\n",
    "import numpy as np\n",
    "import datetime\n",
    "import time\n",
    "\n",
    "# Filter and ignore the warnings\n",
    "import warnings\n",
    "warnings.filterwarnings('ignore')\n",
    "\n",
    "# Packages for visualizations\n",
    "import matplotlib.pyplot as plt\n",
    "import seaborn as sns\n",
    "\n",
    "# Packages for data pre-processing\n",
    "from sklearn.preprocessing import LabelEncoder, StandardScaler,OneHotEncoder\n",
    "from sklearn.model_selection import train_test_split\n",
    "from statsmodels.stats.outliers_influence import variance_inflation_factor"
   ]
  },
  {
   "cell_type": "code",
   "execution_count": 3,
   "id": "7022f794-da6e-4bdd-be1c-ad0661806fbb",
   "metadata": {
    "tags": []
   },
   "outputs": [],
   "source": [
    "# sagemaker library \n",
    "import boto3, sagemaker,os\n",
    "from sagemaker import get_execution_role\n",
    "from sagemaker import TrainingInput\n",
    "from sagemaker.model import Model\n",
    "from sagemaker.serializers import CSVSerializer"
   ]
  },
  {
   "cell_type": "code",
   "execution_count": 4,
   "id": "e601a34f-8001-423c-a982-36d029a5c667",
   "metadata": {
    "tags": []
   },
   "outputs": [],
   "source": [
    "#library for tuning hyperparameter. \n",
    "from sagemaker.tuner import ( IntegerParameter,\n",
    "                             CategoricalParameter,\n",
    "                             ContinuousParameter,\n",
    "                             HyperparameterTuner,\n",
    "                            )\n",
    "from time import gmtime, strftime"
   ]
  },
  {
   "cell_type": "markdown",
   "id": "3908c9eb-d89f-4024-af7d-94b3ea3bfec3",
   "metadata": {
    "tags": []
   },
   "source": [
    "#### Create the S3 bucket and read the dataset from S3 Bucket"
   ]
  },
  {
   "cell_type": "code",
   "execution_count": 9,
   "id": "0a1f9018-f26f-4304-b7c5-86466418cd80",
   "metadata": {
    "tags": []
   },
   "outputs": [
    {
     "name": "stdout",
     "output_type": "stream",
     "text": [
      "Region = us-east-1\n"
     ]
    },
    {
     "data": {
      "text/plain": [
       "{'ResponseMetadata': {'RequestId': 'ACNBW7FZC0Y3WHAP',\n",
       "  'HostId': '82JbFXq9iPvZt4dmWKbdie4tjNpEI+wqYEvj5Y3p5dfWlLv+SaDKrfXnaNs4XdEV+HSukbvPDlReu5nt+PwgLA==',\n",
       "  'HTTPStatusCode': 200,\n",
       "  'HTTPHeaders': {'x-amz-id-2': '82JbFXq9iPvZt4dmWKbdie4tjNpEI+wqYEvj5Y3p5dfWlLv+SaDKrfXnaNs4XdEV+HSukbvPDlReu5nt+PwgLA==',\n",
       "   'x-amz-request-id': 'ACNBW7FZC0Y3WHAP',\n",
       "   'date': 'Fri, 10 Feb 2023 16:49:52 GMT',\n",
       "   'location': '/easy-visa',\n",
       "   'server': 'AmazonS3',\n",
       "   'content-length': '0'},\n",
       "  'RetryAttempts': 0},\n",
       " 'Location': '/easy-visa'}"
      ]
     },
     "execution_count": 9,
     "metadata": {},
     "output_type": "execute_result"
    }
   ],
   "source": [
    "#define the role, bucker name and create a bucket,# create a session where the model will be  build. \n",
    "inputfile_name='EasyVisa.csv'\n",
    "#___________________________________________________\n",
    "# define the IAM role \n",
    "role=get_execution_role()\n",
    "# defind bucket name, session , region\n",
    "bucket_name='easy-visa'\n",
    "session=sagemaker.Session()\n",
    "region_name= boto3.session.Session().region_name\n",
    "print(\"Region = {}\".format(region_name))\n",
    "#-----------------------------------------------\n",
    "# connect to s3 and create the bucket\n",
    "s3=boto3.client('s3')\n",
    "sm_boto3 = boto3.client('sagemaker')\n",
    "s3.create_bucket(Bucket=bucket_name)"
   ]
  },
  {
   "cell_type": "markdown",
   "id": "2ce53998-e88e-417e-9dcb-e24986b5a24a",
   "metadata": {
    "tags": []
   },
   "source": [
    "#### Read data from S3. (Upload the data into S3 Bucket manually and with the help of code read the data from the S3 Bucket)\n",
    "Note: \n",
    "* Keep the target column at first place in the dataframe\n",
    "* Drop the column 'case_id'\n",
    "* Replace the value of Denied with 0 and Certified with 1 in the case_status column\n",
    "* Apply the lable encoding"
   ]
  },
  {
   "cell_type": "code",
   "execution_count": 155,
   "id": "bd97dd82-7bfd-4723-ac59-8a5f523987fa",
   "metadata": {
    "tags": []
   },
   "outputs": [],
   "source": [
    "#upload the csv file to s3 from sagemaker\n",
    "s3.upload_file(Bucket=bucket_name,Filename=inputfile_name,Key=inputfile_name)"
   ]
  },
  {
   "cell_type": "code",
   "execution_count": 156,
   "id": "a9198747-892c-4478-933f-ae2dff462a42",
   "metadata": {
    "tags": []
   },
   "outputs": [],
   "source": [
    "# reading data from s3 into pandas \n",
    "df=pd.read_csv(s3.get_object(Bucket=bucket_name,Key=inputfile_name).get('Body'))"
   ]
  },
  {
   "cell_type": "code",
   "execution_count": 157,
   "id": "70e9a1ca-fa1f-4bca-9198-87fb7bb756e4",
   "metadata": {
    "tags": []
   },
   "outputs": [],
   "source": [
    "#### EDA"
   ]
  },
  {
   "cell_type": "code",
   "execution_count": 158,
   "id": "ec617f08-5580-45d0-9006-102bfc7989bd",
   "metadata": {
    "tags": []
   },
   "outputs": [],
   "source": [
    "# shift target column to fisrt column    \n",
    "case_status=df.pop('case_status')\n",
    "df.insert(0,'case_status',case_status)\n",
    "# drop case id becuaes it not important \n",
    "df.drop('case_id',axis=1,inplace=True)"
   ]
  },
  {
   "cell_type": "code",
   "execution_count": 193,
   "id": "3746cbfb-61dd-45fa-830a-89a74d0f749c",
   "metadata": {
    "tags": []
   },
   "outputs": [
    {
     "name": "stdout",
     "output_type": "stream",
     "text": [
      "case_status:2\n",
      "Certified    17018\n",
      "Denied        8462\n",
      "Name: case_status, dtype: int64\n",
      "\n",
      "continent:6\n",
      "Asia             16861\n",
      "Europe            3732\n",
      "North America     3292\n",
      "South America      852\n",
      "Africa             551\n",
      "Oceania            192\n",
      "Name: continent, dtype: int64\n",
      "\n",
      "education_of_employee:4\n",
      "Bachelor's     10234\n",
      "Master's        9634\n",
      "High School     3420\n",
      "Doctorate       2192\n",
      "Name: education_of_employee, dtype: int64\n",
      "\n",
      "has_job_experience:2\n",
      "Y    14802\n",
      "N    10678\n",
      "Name: has_job_experience, dtype: int64\n",
      "\n",
      "requires_job_training:2\n",
      "N    22525\n",
      "Y     2955\n",
      "Name: requires_job_training, dtype: int64\n",
      "\n",
      "region_of_employment:5\n",
      "Northeast    7195\n",
      "South        7017\n",
      "West         6586\n",
      "Midwest      4307\n",
      "Island        375\n",
      "Name: region_of_employment, dtype: int64\n",
      "\n",
      "unit_of_wage:4\n",
      "Year     22962\n",
      "Hour      2157\n",
      "Week       272\n",
      "Month       89\n",
      "Name: unit_of_wage, dtype: int64\n",
      "\n",
      "full_time_position:2\n",
      "Y    22773\n",
      "N     2707\n",
      "Name: full_time_position, dtype: int64\n",
      "\n"
     ]
    }
   ],
   "source": [
    "# subclasses of categorical features. \n",
    "df.select_dtypes('object').apply(lambda x:print(f'{x.name}:{x.nunique()}\\n{x.value_counts()}\\n'));"
   ]
  },
  {
   "cell_type": "code",
   "execution_count": 160,
   "id": "bc91d406-a6bd-49f8-86e0-c160acd81ed4",
   "metadata": {
    "tags": []
   },
   "outputs": [
    {
     "data": {
      "image/png": "[encoded data removed]",
      "text/plain": [
       "<Figure size 640x480 with 1 Axes>"
      ]
     },
     "metadata": {},
     "output_type": "display_data"
    }
   ],
   "source": [
    "case_status=pd.pivot_table(df,index='case_status',columns='has_job_experience',values='no_of_employees',aggfunc='count')\n",
    "case_status.plot.bar()\n",
    "plt.show()\n"
   ]
  },
  {
   "cell_type": "code",
   "execution_count": 161,
   "id": "c225738b-a344-4530-8145-e5516aa4dc62",
   "metadata": {
    "tags": []
   },
   "outputs": [
    {
     "data": {
      "image/png": "[encoded data removed]",
      "text/plain": [
       "<Figure size 640x480 with 1 Axes>"
      ]
     },
     "metadata": {},
     "output_type": "display_data"
    }
   ],
   "source": [
    "sns.boxplot(data=df,x='region_of_employment',y='prevailing_wage')\n",
    "plt.show()"
   ]
  },
  {
   "cell_type": "code",
   "execution_count": 192,
   "id": "a2109654-dced-4b1a-b271-2d39ca110e94",
   "metadata": {
    "tags": []
   },
   "outputs": [
    {
     "data": {
      "image/png": "[encoded data removed]",
      "text/plain": [
       "<Figure size 640x480 with 2 Axes>"
      ]
     },
     "metadata": {},
     "output_type": "display_data"
    }
   ],
   "source": [
    "case_status=pd.pivot_table(df,index='case_status',columns='continent',values='no_of_employees',aggfunc='count')\n",
    "sns.heatmap(data=case_status,annot=True,square=True,cmap='Spectral_r')\n",
    "plt.show()\n"
   ]
  },
  {
   "cell_type": "code",
   "execution_count": 191,
   "id": "db72fe2c-eaa4-44f6-a1e5-de925e73ede3",
   "metadata": {
    "tags": []
   },
   "outputs": [
    {
     "name": "stdout",
     "output_type": "stream",
     "text": [
      "region_of_employment  Island  Midwest  Northeast  South  West\n",
      "case_status                                                  \n",
      "Certified                226     3253       4526   4913  4100\n",
      "Denied                   149     1054       2669   2104  2486\n"
     ]
    },
    {
     "data": {
      "image/png": "[encoded data removed]",
      "text/plain": [
       "<Figure size 640x480 with 2 Axes>"
      ]
     },
     "metadata": {},
     "output_type": "display_data"
    }
   ],
   "source": [
    "case_status=pd.pivot_table(df,index='case_status',columns='region_of_employment',values='no_of_employees',aggfunc='count')\n",
    "print(case_status)\n",
    "sns.heatmap(data=case_status,annot=True,square=True,cmap='Spectral_r')\n",
    "plt.show()"
   ]
  },
  {
   "cell_type": "code",
   "execution_count": 167,
   "id": "2e4f9891-d9e0-41fa-8147-1ce82f7ffa48",
   "metadata": {
    "tags": []
   },
   "outputs": [
    {
     "data": {
      "image/png": "[encoded data removed]",
      "text/plain": [
       "<Figure size 640x480 with 2 Axes>"
      ]
     },
     "metadata": {},
     "output_type": "display_data"
    }
   ],
   "source": [
    "education_of_employee=pd.pivot_table(df,index='education_of_employee',columns='region_of_employment',values='case_status',aggfunc='count')\n",
    "education_of_employee\n",
    "sns.heatmap(education_of_employee,cmap='Spectral_r',annot=True)\n",
    "plt.show()"
   ]
  },
  {
   "cell_type": "code",
   "execution_count": 19,
   "id": "af2aadeb-d6b8-4ce6-ace2-3e236a79c51a",
   "metadata": {
    "tags": []
   },
   "outputs": [],
   "source": [
    "# Renaming the the target 'case statues' feature classes. \n",
    "df['case_status'].replace( {'Denied':0, 'Certified': 1},inplace=True)\n"
   ]
  },
  {
   "cell_type": "code",
   "execution_count": 86,
   "id": "d47a3903-7d59-4bb3-8831-63858323b6b9",
   "metadata": {
    "tags": []
   },
   "outputs": [
    {
     "name": "stdout",
     "output_type": "stream",
     "text": [
      "negative/positove = 0.49723821835703375\n"
     ]
    }
   ],
   "source": [
    "df['case_status'].value_counts()\n",
    "ratio=df['case_status'].value_counts()[0]/df['case_status'].value_counts()[1]\n",
    "print(f'negative/positove = {ratio}')"
   ]
  },
  {
   "cell_type": "code",
   "execution_count": 23,
   "id": "8ba2e2ad-470c-4c69-be7f-7f9a2cdfa48c",
   "metadata": {
    "tags": []
   },
   "outputs": [],
   "source": [
    "# Labeling the categorical values \n",
    "cat_col=['continent','has_job_experience','full_time_position','region_of_employment','education_of_employee','unit_of_wage','requires_job_training']\n",
    "LE=LabelEncoder()\n",
    "for col in cat_col:\n",
    "    df[col]=LE.fit_transform(df[col])"
   ]
  },
  {
   "cell_type": "code",
   "execution_count": 21,
   "id": "49aabc14-e8e2-435b-9b19-fd85f7e23827",
   "metadata": {
    "tags": []
   },
   "outputs": [],
   "source": [
    "# applying one hot encoding \n",
    "oh= OneHotEncoder(sparse=False,drop='first')\n",
    "one_hot_encoded=oh.fit_transform(df[cat_col])\n",
    "\n",
    "#df1 = pd.concat([df,one_hot_encoded],axis=1).drop(columns=cat_col)\n",
    "df1=pd.concat([df.drop(cat_col,axis=1),pd.DataFrame(one_hot_encoded,columns=oh.get_feature_names(cat_col).tolist()),],axis=1)"
   ]
  },
  {
   "cell_type": "code",
   "execution_count": 22,
   "id": "84c65996-e198-46e5-b74b-ced3133d4672",
   "metadata": {
    "tags": []
   },
   "outputs": [
    {
     "data": {
      "text/html": [
       "<div>\n",
       "<style scoped>\n",
       "    .dataframe tbody tr th:only-of-type {\n",
       "        vertical-align: middle;\n",
       "    }\n",
       "\n",
       "    .dataframe tbody tr th {\n",
       "        vertical-align: top;\n",
       "    }\n",
       "\n",
       "    .dataframe thead th {\n",
       "        text-align: right;\n",
       "    }\n",
       "</style>\n",
       "<table border=\"1\" class=\"dataframe\">\n",
       "  <thead>\n",
       "    <tr style=\"text-align: right;\">\n",
       "      <th></th>\n",
       "      <th>case_status</th>\n",
       "      <th>no_of_employees</th>\n",
       "      <th>yr_of_estab</th>\n",
       "      <th>prevailing_wage</th>\n",
       "      <th>continent_1</th>\n",
       "      <th>continent_2</th>\n",
       "      <th>continent_3</th>\n",
       "      <th>continent_4</th>\n",
       "      <th>continent_5</th>\n",
       "      <th>has_job_experience_1</th>\n",
       "      <th>...</th>\n",
       "      <th>region_of_employment_2</th>\n",
       "      <th>region_of_employment_3</th>\n",
       "      <th>region_of_employment_4</th>\n",
       "      <th>education_of_employee_1</th>\n",
       "      <th>education_of_employee_2</th>\n",
       "      <th>education_of_employee_3</th>\n",
       "      <th>unit_of_wage_1</th>\n",
       "      <th>unit_of_wage_2</th>\n",
       "      <th>unit_of_wage_3</th>\n",
       "      <th>requires_job_training_1</th>\n",
       "    </tr>\n",
       "  </thead>\n",
       "  <tbody>\n",
       "    <tr>\n",
       "      <th>0</th>\n",
       "      <td>0</td>\n",
       "      <td>14513</td>\n",
       "      <td>2007</td>\n",
       "      <td>592.2029</td>\n",
       "      <td>1.0</td>\n",
       "      <td>0.0</td>\n",
       "      <td>0.0</td>\n",
       "      <td>0.0</td>\n",
       "      <td>0.0</td>\n",
       "      <td>0.0</td>\n",
       "      <td>...</td>\n",
       "      <td>0.0</td>\n",
       "      <td>0.0</td>\n",
       "      <td>1.0</td>\n",
       "      <td>0.0</td>\n",
       "      <td>1.0</td>\n",
       "      <td>0.0</td>\n",
       "      <td>0.0</td>\n",
       "      <td>0.0</td>\n",
       "      <td>0.0</td>\n",
       "      <td>0.0</td>\n",
       "    </tr>\n",
       "    <tr>\n",
       "      <th>1</th>\n",
       "      <td>1</td>\n",
       "      <td>2412</td>\n",
       "      <td>2002</td>\n",
       "      <td>83425.6500</td>\n",
       "      <td>1.0</td>\n",
       "      <td>0.0</td>\n",
       "      <td>0.0</td>\n",
       "      <td>0.0</td>\n",
       "      <td>0.0</td>\n",
       "      <td>1.0</td>\n",
       "      <td>...</td>\n",
       "      <td>1.0</td>\n",
       "      <td>0.0</td>\n",
       "      <td>0.0</td>\n",
       "      <td>0.0</td>\n",
       "      <td>0.0</td>\n",
       "      <td>1.0</td>\n",
       "      <td>0.0</td>\n",
       "      <td>0.0</td>\n",
       "      <td>1.0</td>\n",
       "      <td>0.0</td>\n",
       "    </tr>\n",
       "  </tbody>\n",
       "</table>\n",
       "<p>2 rows × 22 columns</p>\n",
       "</div>"
      ],
      "text/plain": [
       "   case_status  no_of_employees  yr_of_estab  prevailing_wage  continent_1  \\\n",
       "0            0            14513         2007         592.2029          1.0   \n",
       "1            1             2412         2002       83425.6500          1.0   \n",
       "\n",
       "   continent_2  continent_3  continent_4  continent_5  has_job_experience_1  \\\n",
       "0          0.0          0.0          0.0          0.0                   0.0   \n",
       "1          0.0          0.0          0.0          0.0                   1.0   \n",
       "\n",
       "   ...  region_of_employment_2  region_of_employment_3  \\\n",
       "0  ...                     0.0                     0.0   \n",
       "1  ...                     1.0                     0.0   \n",
       "\n",
       "   region_of_employment_4  education_of_employee_1  education_of_employee_2  \\\n",
       "0                     1.0                      0.0                      1.0   \n",
       "1                     0.0                      0.0                      0.0   \n",
       "\n",
       "   education_of_employee_3  unit_of_wage_1  unit_of_wage_2  unit_of_wage_3  \\\n",
       "0                      0.0             0.0             0.0             0.0   \n",
       "1                      1.0             0.0             0.0             1.0   \n",
       "\n",
       "   requires_job_training_1  \n",
       "0                      0.0  \n",
       "1                      0.0  \n",
       "\n",
       "[2 rows x 22 columns]"
      ]
     },
     "execution_count": 22,
     "metadata": {},
     "output_type": "execute_result"
    }
   ],
   "source": [
    "df1.head(2)"
   ]
  },
  {
   "cell_type": "markdown",
   "id": "423e0ac3-7132-4d89-874b-a007de62f543",
   "metadata": {},
   "source": [
    "#### Split data and upload back to S3"
   ]
  },
  {
   "cell_type": "code",
   "execution_count": 27,
   "id": "f5e24540-0e9e-49b4-a831-1157a879fc04",
   "metadata": {
    "tags": []
   },
   "outputs": [],
   "source": [
    "# split the data into train and validation and save it localy\n",
    "train,validation=train_test_split(df1,test_size=0.2,random_state=1)\n",
    "# save teh train validation to local sagemker \n",
    "train.to_csv('train.csv',index=0)\n",
    "validation.to_csv('validation.csv',index=0)"
   ]
  },
  {
   "cell_type": "markdown",
   "id": "52b3f111-42cd-49d6-8bf1-deca80841075",
   "metadata": {
    "tags": []
   },
   "source": [
    "#### Upload into S3 (checkpoint)\n",
    "\n",
    "Let's checkpoint the train and validation datasets into the S3 Bucket, so we can fallback in case we need them again"
   ]
  },
  {
   "cell_type": "code",
   "execution_count": 28,
   "id": "125bd0a2-f825-47ca-862c-321139f6a4cf",
   "metadata": {
    "tags": []
   },
   "outputs": [],
   "source": [
    "# define the directory where the processed data will be saved inside the bucket. \n",
    "prefix_pro='processed-data'\n",
    "trainpath=session.upload_data( path=\"train.csv\", bucket=bucket_name, key_prefix=prefix_pro)                                                       \n",
    "valpath=session.upload_data( path=\"validation.csv\", bucket=bucket_name, key_prefix=prefix_pro)                                                      "
   ]
  },
  {
   "cell_type": "code",
   "execution_count": 29,
   "id": "90cb5e62-fde2-4347-a0fd-25a1ff2ef2d5",
   "metadata": {
    "tags": []
   },
   "outputs": [
    {
     "name": "stdout",
     "output_type": "stream",
     "text": [
      "s3://easy-visa/processed-data/train.csv\n",
      "s3://easy-visa/processed-data/validation.csv\n"
     ]
    }
   ],
   "source": [
    "print(trainpath)\n",
    "print(valpath)"
   ]
  },
  {
   "cell_type": "markdown",
   "id": "23bf65cc-2cca-4497-af46-f5e10e54ad9d",
   "metadata": {
    "tags": []
   },
   "source": [
    "## Training, Tuning and Deploying the model"
   ]
  },
  {
   "cell_type": "markdown",
   "id": "2c55f6b7-66c7-4a2f-a414-554eb3eecbb0",
   "metadata": {
    "tags": []
   },
   "source": [
    "### Model Training"
   ]
  },
  {
   "cell_type": "markdown",
   "id": "8f04fa39-e238-4bc5-b34e-6837a45a2392",
   "metadata": {},
   "source": [
    "#### Get the container image for Xgboost"
   ]
  },
  {
   "cell_type": "code",
   "execution_count": 30,
   "id": "53a3c31d-d3b0-4bff-982a-29966af81de8",
   "metadata": {
    "tags": []
   },
   "outputs": [],
   "source": [
    "#the xgboost in the image contaier and finding the model version\n",
    "model_uris='xgboost'\n",
    "image_version=\"1.5-1\"\n",
    "# define the contaier were the training will happed .\n",
    "container=sagemaker.estimator.image_uris.retrieve(framework=model_uris,region='us-east-1' ,version=image_version)"
   ]
  },
  {
   "cell_type": "markdown",
   "id": "fe644da0-ded3-4c97-b26a-78b123252004",
   "metadata": {},
   "source": [
    "#### Set the training configuration"
   ]
  },
  {
   "cell_type": "code",
   "execution_count": 31,
   "id": "68f5ce9a-1b70-46f7-be78-99232afcf9e2",
   "metadata": {
    "tags": []
   },
   "outputs": [],
   "source": [
    "# seting teh inputs from s3\n",
    "s3_input_train=TrainingInput(s3_data=f\"s3://{bucket_name}/{prefix_pro}/train\",content_type='csv')\n",
    "s3_input_val=TrainingInput(s3_data=f\"s3://{bucket_name}/{prefix_pro}/validation\",content_type='csv')\n"
   ]
  },
  {
   "cell_type": "markdown",
   "id": "26b6bfb7-406d-487f-9b56-5872195b6dbc",
   "metadata": {
    "tags": []
   },
   "source": [
    "#### Train Classification Model (inbuilt XG-Boost model) using the data"
   ]
  },
  {
   "cell_type": "code",
   "execution_count": 32,
   "id": "acff4ac9-21e1-46f1-86dc-bea180ee64e2",
   "metadata": {
    "tags": []
   },
   "outputs": [],
   "source": [
    "train_prefix='xgb_model'\n",
    "xgb=sagemaker.estimator.Estimator(\n",
    "    \n",
    "    container,\n",
    "    role,\n",
    "    instance_count=1,\n",
    "    instance_type='ml.m4.xlarge',\n",
    "    output_path=\"s3://{}/{}/output\".format(bucket_name,train_prefix),\n",
    "    sagemaker_session=session,\n",
    ")"
   ]
  },
  {
   "cell_type": "code",
   "execution_count": 44,
   "id": "f1a9f94f-9ee9-46c7-b7cd-5c9dc2d0419c",
   "metadata": {
    "tags": []
   },
   "outputs": [
    {
     "name": "stdout",
     "output_type": "stream",
     "text": [
      " verbosity = 0 ,\n",
      " objective = binary:logistic ,\n",
      " num_round = 100 ,\n",
      "None\n"
     ]
    }
   ],
   "source": [
    "# set some hyperparameter for the base xgboost model \n",
    "def to_dic(dic_param):\n",
    "    for key,value in dic_param.items():\n",
    "        print(''.join(''),key, '=' ,value,',')\n",
    "hyp1={ 'verbosity':0,'objective':'binary:logistic','num_round':100}\n",
    "print(to_dic(hyp1))\n",
    "xgb.set_hyperparameters(verbosity = 0 ,\n",
    " objective = 'binary:logistic' ,\n",
    " num_round = 100,\n",
    "          scale_pos_weight = 0.5 )\n"
   ]
  },
  {
   "cell_type": "code",
   "execution_count": 49,
   "id": "e1bf44ce-04df-43f0-8987-fe301d73b85d",
   "metadata": {
    "tags": []
   },
   "outputs": [],
   "source": [
    "#fit the model using the inputs "
   ]
  },
  {
   "cell_type": "code",
   "execution_count": 45,
   "id": "500ee11b-c7b1-44ce-af52-ce8c043e1cc1",
   "metadata": {
    "tags": []
   },
   "outputs": [
    {
     "name": "stdout",
     "output_type": "stream",
     "text": [
      "2023-02-10 17:12:10 Starting - Starting the training job...\n",
      "2023-02-10 17:12:35 Starting - Preparing the instances for trainingProfilerReport-1676049130: InProgress\n",
      ".........\n",
      "2023-02-10 17:13:54 Downloading - Downloading input data...\n",
      "2023-02-10 17:14:34 Training - Downloading the training image...\n",
      "2023-02-10 17:14:58 Training - Training image download completed. Training in progress..\u001b[34m[2023-02-10 17:15:10.388 ip-10-0-140-253.ec2.internal:8 INFO utils.py:27] RULE_JOB_STOP_SIGNAL_FILENAME: None\u001b[0m\n",
      "\u001b[34m[2023-02-10:17:15:10:INFO] Imported framework sagemaker_xgboost_container.training\u001b[0m\n",
      "\u001b[34m[2023-02-10:17:15:10:INFO] Failed to parse hyperparameter objective value binary:logistic to Json.\u001b[0m\n",
      "\u001b[34mReturning the value itself\u001b[0m\n",
      "\u001b[34m[2023-02-10:17:15:10:INFO] No GPUs detected (normal if no gpus installed)\u001b[0m\n",
      "\u001b[34m[2023-02-10:17:15:10:INFO] Running XGBoost Sagemaker in algorithm mode\u001b[0m\n",
      "\u001b[34m[2023-02-10:17:15:10:INFO] Determined delimiter of CSV input is ','\u001b[0m\n",
      "\u001b[34m[2023-02-10:17:15:10:INFO] Determined delimiter of CSV input is ','\u001b[0m\n",
      "\u001b[34m[2023-02-10:17:15:10:INFO] files path: /opt/ml/input/data/train\u001b[0m\n",
      "\u001b[34m[2023-02-10:17:15:10:INFO] Determined delimiter of CSV input is ','\u001b[0m\n",
      "\u001b[34m[2023-02-10:17:15:10:INFO] files path: /opt/ml/input/data/validation\u001b[0m\n",
      "\u001b[34m[2023-02-10:17:15:10:INFO] Determined delimiter of CSV input is ','\u001b[0m\n",
      "\u001b[34m[2023-02-10:17:15:10:INFO] Single node training.\u001b[0m\n",
      "\u001b[34m[2023-02-10:17:15:10:INFO] Train matrix has 20385 rows and 21 columns\u001b[0m\n",
      "\u001b[34m[2023-02-10:17:15:10:INFO] Validation matrix has 5097 rows\u001b[0m\n",
      "\u001b[34m[2023-02-10 17:15:10.509 ip-10-0-140-253.ec2.internal:8 INFO json_config.py:91] Creating hook from json_config at /opt/ml/input/config/debughookconfig.json.\u001b[0m\n",
      "\u001b[34m[0]#011train-logloss:0.61444#011validation-logloss:0.61712\u001b[0m\n",
      "\u001b[34m[1]#011train-logloss:0.57255#011validation-logloss:0.57753\u001b[0m\n",
      "\u001b[34m[2]#011train-logloss:0.54694#011validation-logloss:0.55480\u001b[0m\n",
      "\u001b[34m[3]#011train-logloss:0.53134#011validation-logloss:0.54065\u001b[0m\n",
      "\u001b[34m[4]#011train-logloss:0.51832#011validation-logloss:0.52919\u001b[0m\n",
      "\u001b[34m[5]#011train-logloss:0.50943#011validation-logloss:0.52314\u001b[0m\n",
      "\u001b[34m[6]#011train-logloss:0.50370#011validation-logloss:0.52012\u001b[0m\n",
      "\u001b[34m[7]#011train-logloss:0.49909#011validation-logloss:0.51837\u001b[0m\n",
      "\u001b[34m[8]#011train-logloss:0.49471#011validation-logloss:0.51652\u001b[0m\n",
      "\u001b[34m[9]#011train-logloss:0.49173#011validation-logloss:0.51606\u001b[0m\n",
      "\u001b[34m[10]#011train-logloss:0.48850#011validation-logloss:0.51616\u001b[0m\n",
      "\u001b[34m[11]#011train-logloss:0.48624#011validation-logloss:0.51539\u001b[0m\n",
      "\u001b[34m[12]#011train-logloss:0.48315#011validation-logloss:0.51545\u001b[0m\n",
      "\u001b[34m[13]#011train-logloss:0.48175#011validation-logloss:0.51593\u001b[0m\n",
      "\u001b[34m[14]#011train-logloss:0.47977#011validation-logloss:0.51558\u001b[0m\n",
      "\u001b[34m[15]#011train-logloss:0.47861#011validation-logloss:0.51552\u001b[0m\n",
      "\u001b[34m[16]#011train-logloss:0.47609#011validation-logloss:0.51493\u001b[0m\n",
      "\u001b[34m[17]#011train-logloss:0.47340#011validation-logloss:0.51553\u001b[0m\n",
      "\u001b[34m[18]#011train-logloss:0.47119#011validation-logloss:0.51592\u001b[0m\n",
      "\u001b[34m[19]#011train-logloss:0.47030#011validation-logloss:0.51594\u001b[0m\n",
      "\u001b[34m[20]#011train-logloss:0.46868#011validation-logloss:0.51640\u001b[0m\n",
      "\u001b[34m[21]#011train-logloss:0.46820#011validation-logloss:0.51650\u001b[0m\n",
      "\u001b[34m[22]#011train-logloss:0.46688#011validation-logloss:0.51721\u001b[0m\n",
      "\u001b[34m[23]#011train-logloss:0.46520#011validation-logloss:0.51792\u001b[0m\n",
      "\u001b[34m[24]#011train-logloss:0.46440#011validation-logloss:0.51837\u001b[0m\n",
      "\u001b[34m[25]#011train-logloss:0.46343#011validation-logloss:0.51842\u001b[0m\n",
      "\u001b[34m[26]#011train-logloss:0.46222#011validation-logloss:0.51916\u001b[0m\n",
      "\u001b[34m[27]#011train-logloss:0.46040#011validation-logloss:0.51908\u001b[0m\n",
      "\u001b[34m[28]#011train-logloss:0.45996#011validation-logloss:0.51920\u001b[0m\n",
      "\u001b[34m[29]#011train-logloss:0.45846#011validation-logloss:0.51914\u001b[0m\n",
      "\u001b[34m[30]#011train-logloss:0.45692#011validation-logloss:0.51982\u001b[0m\n",
      "\u001b[34m[31]#011train-logloss:0.45481#011validation-logloss:0.52034\u001b[0m\n",
      "\u001b[34m[32]#011train-logloss:0.45384#011validation-logloss:0.52047\u001b[0m\n",
      "\u001b[34m[33]#011train-logloss:0.45356#011validation-logloss:0.52058\u001b[0m\n",
      "\u001b[34m[34]#011train-logloss:0.45326#011validation-logloss:0.52087\u001b[0m\n",
      "\u001b[34m[35]#011train-logloss:0.45171#011validation-logloss:0.52069\u001b[0m\n",
      "\u001b[34m[36]#011train-logloss:0.45075#011validation-logloss:0.52114\u001b[0m\n",
      "\u001b[34m[37]#011train-logloss:0.44967#011validation-logloss:0.52141\u001b[0m\n",
      "\u001b[34m[38]#011train-logloss:0.44893#011validation-logloss:0.52180\u001b[0m\n",
      "\u001b[34m[39]#011train-logloss:0.44727#011validation-logloss:0.52229\u001b[0m\n",
      "\u001b[34m[40]#011train-logloss:0.44569#011validation-logloss:0.52327\u001b[0m\n",
      "\u001b[34m[41]#011train-logloss:0.44430#011validation-logloss:0.52387\u001b[0m\n",
      "\u001b[34m[42]#011train-logloss:0.44321#011validation-logloss:0.52501\u001b[0m\n",
      "\u001b[34m[43]#011train-logloss:0.44225#011validation-logloss:0.52542\u001b[0m\n",
      "\u001b[34m[44]#011train-logloss:0.44203#011validation-logloss:0.52543\u001b[0m\n",
      "\u001b[34m[45]#011train-logloss:0.44106#011validation-logloss:0.52590\u001b[0m\n",
      "\u001b[34m[46]#011train-logloss:0.43931#011validation-logloss:0.52604\u001b[0m\n",
      "\u001b[34m[47]#011train-logloss:0.43793#011validation-logloss:0.52633\u001b[0m\n",
      "\u001b[34m[48]#011train-logloss:0.43628#011validation-logloss:0.52719\u001b[0m\n",
      "\u001b[34m[49]#011train-logloss:0.43479#011validation-logloss:0.52739\u001b[0m\n",
      "\u001b[34m[50]#011train-logloss:0.43392#011validation-logloss:0.52751\u001b[0m\n",
      "\u001b[34m[51]#011train-logloss:0.43265#011validation-logloss:0.52822\u001b[0m\n",
      "\u001b[34m[52]#011train-logloss:0.43230#011validation-logloss:0.52823\u001b[0m\n",
      "\u001b[34m[53]#011train-logloss:0.43081#011validation-logloss:0.52864\u001b[0m\n",
      "\u001b[34m[54]#011train-logloss:0.42938#011validation-logloss:0.52891\u001b[0m\n",
      "\u001b[34m[55]#011train-logloss:0.42779#011validation-logloss:0.52923\u001b[0m\n",
      "\u001b[34m[56]#011train-logloss:0.42664#011validation-logloss:0.52938\u001b[0m\n",
      "\u001b[34m[57]#011train-logloss:0.42527#011validation-logloss:0.52961\u001b[0m\n",
      "\u001b[34m[58]#011train-logloss:0.42370#011validation-logloss:0.53013\u001b[0m\n",
      "\u001b[34m[59]#011train-logloss:0.42284#011validation-logloss:0.53045\u001b[0m\n",
      "\u001b[34m[60]#011train-logloss:0.42186#011validation-logloss:0.53135\u001b[0m\n",
      "\u001b[34m[61]#011train-logloss:0.42163#011validation-logloss:0.53138\u001b[0m\n",
      "\u001b[34m[62]#011train-logloss:0.42118#011validation-logloss:0.53178\u001b[0m\n",
      "\u001b[34m[63]#011train-logloss:0.42031#011validation-logloss:0.53208\u001b[0m\n",
      "\u001b[34m[64]#011train-logloss:0.41884#011validation-logloss:0.53256\u001b[0m\n",
      "\u001b[34m[65]#011train-logloss:0.41867#011validation-logloss:0.53260\u001b[0m\n",
      "\u001b[34m[66]#011train-logloss:0.41800#011validation-logloss:0.53306\u001b[0m\n",
      "\u001b[34m[67]#011train-logloss:0.41706#011validation-logloss:0.53329\u001b[0m\n",
      "\u001b[34m[68]#011train-logloss:0.41657#011validation-logloss:0.53347\u001b[0m\n",
      "\u001b[34m[69]#011train-logloss:0.41564#011validation-logloss:0.53411\u001b[0m\n",
      "\u001b[34m[70]#011train-logloss:0.41552#011validation-logloss:0.53404\u001b[0m\n",
      "\u001b[34m[71]#011train-logloss:0.41454#011validation-logloss:0.53456\u001b[0m\n",
      "\u001b[34m[72]#011train-logloss:0.41296#011validation-logloss:0.53509\u001b[0m\n",
      "\u001b[34m[73]#011train-logloss:0.41252#011validation-logloss:0.53550\u001b[0m\n",
      "\u001b[34m[74]#011train-logloss:0.41228#011validation-logloss:0.53554\u001b[0m\n",
      "\u001b[34m[75]#011train-logloss:0.41115#011validation-logloss:0.53566\u001b[0m\n",
      "\u001b[34m[76]#011train-logloss:0.41024#011validation-logloss:0.53544\u001b[0m\n",
      "\u001b[34m[77]#011train-logloss:0.40972#011validation-logloss:0.53573\u001b[0m\n",
      "\u001b[34m[78]#011train-logloss:0.40837#011validation-logloss:0.53586\u001b[0m\n",
      "\u001b[34m[79]#011train-logloss:0.40747#011validation-logloss:0.53650\u001b[0m\n",
      "\u001b[34m[80]#011train-logloss:0.40651#011validation-logloss:0.53711\u001b[0m\n",
      "\u001b[34m[81]#011train-logloss:0.40599#011validation-logloss:0.53710\u001b[0m\n",
      "\u001b[34m[82]#011train-logloss:0.40461#011validation-logloss:0.53729\u001b[0m\n",
      "\u001b[34m[83]#011train-logloss:0.40359#011validation-logloss:0.53751\u001b[0m\n",
      "\u001b[34m[84]#011train-logloss:0.40216#011validation-logloss:0.53820\u001b[0m\n",
      "\u001b[34m[85]#011train-logloss:0.40133#011validation-logloss:0.53844\u001b[0m\n",
      "\u001b[34m[86]#011train-logloss:0.40104#011validation-logloss:0.53836\u001b[0m\n",
      "\u001b[34m[87]#011train-logloss:0.40021#011validation-logloss:0.53846\u001b[0m\n",
      "\u001b[34m[88]#011train-logloss:0.39948#011validation-logloss:0.53834\u001b[0m\n",
      "\u001b[34m[89]#011train-logloss:0.39876#011validation-logloss:0.53808\u001b[0m\n",
      "\u001b[34m[90]#011train-logloss:0.39836#011validation-logloss:0.53796\u001b[0m\n",
      "\u001b[34m[91]#011train-logloss:0.39734#011validation-logloss:0.53878\u001b[0m\n",
      "\u001b[34m[92]#011train-logloss:0.39625#011validation-logloss:0.53916\u001b[0m\n",
      "\u001b[34m[93]#011train-logloss:0.39504#011validation-logloss:0.53931\u001b[0m\n",
      "\u001b[34m[94]#011train-logloss:0.39480#011validation-logloss:0.53929\u001b[0m\n",
      "\u001b[34m[95]#011train-logloss:0.39385#011validation-logloss:0.53954\u001b[0m\n",
      "\u001b[34m[96]#011train-logloss:0.39340#011validation-logloss:0.53972\u001b[0m\n",
      "\u001b[34m[97]#011train-logloss:0.39260#011validation-logloss:0.54033\u001b[0m\n",
      "\u001b[34m[98]#011train-logloss:0.39213#011validation-logloss:0.54044\u001b[0m\n",
      "\u001b[34m[99]#011train-logloss:0.39147#011validation-logloss:0.54061\u001b[0m\n",
      "\n",
      "2023-02-10 17:15:35 Uploading - Uploading generated training model\n",
      "2023-02-10 17:15:35 Completed - Training job completed\n",
      "Training seconds: 108\n",
      "Billable seconds: 108\n"
     ]
    }
   ],
   "source": [
    "xgb.fit({'train':s3_input_train,'validation':s3_input_val})\n",
    "    \n",
    "    "
   ]
  },
  {
   "cell_type": "markdown",
   "id": "6458cab9-3c0f-4766-a6f8-650b1561c73d",
   "metadata": {
    "tags": []
   },
   "source": [
    "#### Deploy the model"
   ]
  },
  {
   "cell_type": "code",
   "execution_count": 46,
   "id": "7ba1b27e-c934-448e-94d3-843e1e73af7b",
   "metadata": {
    "tags": []
   },
   "outputs": [
    {
     "name": "stdout",
     "output_type": "stream",
     "text": [
      "----------!"
     ]
    }
   ],
   "source": [
    "# deploty the trained model \n",
    "xgb_predictor=xgb.deploy(\n",
    "            initial_instance_count=1,\n",
    "           instance_type='ml.m4.xlarge',\n",
    "           serializer=CSVSerializer(),\n",
    "           \n",
    ")"
   ]
  },
  {
   "cell_type": "markdown",
   "id": "05237232-506a-48bd-a90d-9ca5a9488fdb",
   "metadata": {},
   "source": [
    "#### Save the predictions"
   ]
  },
  {
   "cell_type": "code",
   "execution_count": 47,
   "id": "c1c886ab-b14e-4b49-8ff7-c1f32a95cec3",
   "metadata": {
    "tags": []
   },
   "outputs": [],
   "source": [
    "# function sereialize the input into smaller arrays and make a predictions, \n",
    "#saveing the prediction values in data base with the real values . \n",
    "def predict(model,data,rows=500):\n",
    "    split_array=np.array_split(data,int(data.shape[0]/float(rows)+1))\n",
    "    prediction=\"\"\n",
    "    for array in split_array:\n",
    "        prediction=\"\".join([prediction,model.predict(array).decode('utf-8')])\n",
    "    return prediction.split(\"\\n\")[:-1]\n",
    "predictions=predict(xgb_predictor,validation.drop('case_status',axis=1).to_numpy())"
   ]
  },
  {
   "cell_type": "code",
   "execution_count": 48,
   "id": "ca6dd0a7-4f3c-4f70-a553-731e9d386760",
   "metadata": {
    "tags": []
   },
   "outputs": [
    {
     "name": "stdout",
     "output_type": "stream",
     "text": [
      "[0.74695969 0.80427605 0.52410513 ... 0.72941768 0.94687051 0.75559515]\n"
     ]
    }
   ],
   "source": [
    "prediction=np.array([float(num) for num in predictions])\n",
    "print(prediction)"
   ]
  },
  {
   "cell_type": "code",
   "execution_count": 49,
   "id": "e46d5ac5-3a47-4968-95cb-29906c61f767",
   "metadata": {
    "tags": []
   },
   "outputs": [
    {
     "data": {
      "text/html": [
       "<div>\n",
       "<style scoped>\n",
       "    .dataframe tbody tr th:only-of-type {\n",
       "        vertical-align: middle;\n",
       "    }\n",
       "\n",
       "    .dataframe tbody tr th {\n",
       "        vertical-align: top;\n",
       "    }\n",
       "\n",
       "    .dataframe thead th {\n",
       "        text-align: right;\n",
       "    }\n",
       "</style>\n",
       "<table border=\"1\" class=\"dataframe\">\n",
       "  <thead>\n",
       "    <tr style=\"text-align: right;\">\n",
       "      <th></th>\n",
       "      <th>no_of_employees</th>\n",
       "      <th>yr_of_estab</th>\n",
       "      <th>prevailing_wage</th>\n",
       "      <th>continent_1</th>\n",
       "      <th>continent_2</th>\n",
       "      <th>continent_3</th>\n",
       "      <th>continent_4</th>\n",
       "      <th>continent_5</th>\n",
       "      <th>has_job_experience_1</th>\n",
       "      <th>full_time_position_1</th>\n",
       "      <th>...</th>\n",
       "      <th>region_of_employment_4</th>\n",
       "      <th>education_of_employee_1</th>\n",
       "      <th>education_of_employee_2</th>\n",
       "      <th>education_of_employee_3</th>\n",
       "      <th>unit_of_wage_1</th>\n",
       "      <th>unit_of_wage_2</th>\n",
       "      <th>unit_of_wage_3</th>\n",
       "      <th>requires_job_training_1</th>\n",
       "      <th>case_status</th>\n",
       "      <th>class_pred</th>\n",
       "    </tr>\n",
       "  </thead>\n",
       "  <tbody>\n",
       "    <tr>\n",
       "      <th>0</th>\n",
       "      <td>567</td>\n",
       "      <td>1992</td>\n",
       "      <td>26842.9100</td>\n",
       "      <td>1.0</td>\n",
       "      <td>0.0</td>\n",
       "      <td>0.0</td>\n",
       "      <td>0.0</td>\n",
       "      <td>0.0</td>\n",
       "      <td>1.0</td>\n",
       "      <td>1.0</td>\n",
       "      <td>...</td>\n",
       "      <td>0.0</td>\n",
       "      <td>0.0</td>\n",
       "      <td>0.0</td>\n",
       "      <td>0.0</td>\n",
       "      <td>0.0</td>\n",
       "      <td>0.0</td>\n",
       "      <td>1.0</td>\n",
       "      <td>0.0</td>\n",
       "      <td>1</td>\n",
       "      <td>1</td>\n",
       "    </tr>\n",
       "    <tr>\n",
       "      <th>1</th>\n",
       "      <td>619</td>\n",
       "      <td>1938</td>\n",
       "      <td>66419.9800</td>\n",
       "      <td>0.0</td>\n",
       "      <td>0.0</td>\n",
       "      <td>0.0</td>\n",
       "      <td>1.0</td>\n",
       "      <td>0.0</td>\n",
       "      <td>0.0</td>\n",
       "      <td>1.0</td>\n",
       "      <td>...</td>\n",
       "      <td>0.0</td>\n",
       "      <td>0.0</td>\n",
       "      <td>0.0</td>\n",
       "      <td>0.0</td>\n",
       "      <td>0.0</td>\n",
       "      <td>0.0</td>\n",
       "      <td>1.0</td>\n",
       "      <td>0.0</td>\n",
       "      <td>1</td>\n",
       "      <td>1</td>\n",
       "    </tr>\n",
       "    <tr>\n",
       "      <th>2</th>\n",
       "      <td>2635</td>\n",
       "      <td>2005</td>\n",
       "      <td>887.2921</td>\n",
       "      <td>1.0</td>\n",
       "      <td>0.0</td>\n",
       "      <td>0.0</td>\n",
       "      <td>0.0</td>\n",
       "      <td>0.0</td>\n",
       "      <td>0.0</td>\n",
       "      <td>1.0</td>\n",
       "      <td>...</td>\n",
       "      <td>0.0</td>\n",
       "      <td>0.0</td>\n",
       "      <td>0.0</td>\n",
       "      <td>1.0</td>\n",
       "      <td>0.0</td>\n",
       "      <td>0.0</td>\n",
       "      <td>0.0</td>\n",
       "      <td>0.0</td>\n",
       "      <td>1</td>\n",
       "      <td>1</td>\n",
       "    </tr>\n",
       "    <tr>\n",
       "      <th>3</th>\n",
       "      <td>3184</td>\n",
       "      <td>1986</td>\n",
       "      <td>49435.8000</td>\n",
       "      <td>1.0</td>\n",
       "      <td>0.0</td>\n",
       "      <td>0.0</td>\n",
       "      <td>0.0</td>\n",
       "      <td>0.0</td>\n",
       "      <td>1.0</td>\n",
       "      <td>1.0</td>\n",
       "      <td>...</td>\n",
       "      <td>0.0</td>\n",
       "      <td>0.0</td>\n",
       "      <td>0.0</td>\n",
       "      <td>0.0</td>\n",
       "      <td>0.0</td>\n",
       "      <td>0.0</td>\n",
       "      <td>1.0</td>\n",
       "      <td>1.0</td>\n",
       "      <td>1</td>\n",
       "      <td>1</td>\n",
       "    </tr>\n",
       "    <tr>\n",
       "      <th>4</th>\n",
       "      <td>4681</td>\n",
       "      <td>1928</td>\n",
       "      <td>49865.1900</td>\n",
       "      <td>0.0</td>\n",
       "      <td>1.0</td>\n",
       "      <td>0.0</td>\n",
       "      <td>0.0</td>\n",
       "      <td>0.0</td>\n",
       "      <td>1.0</td>\n",
       "      <td>1.0</td>\n",
       "      <td>...</td>\n",
       "      <td>1.0</td>\n",
       "      <td>0.0</td>\n",
       "      <td>0.0</td>\n",
       "      <td>0.0</td>\n",
       "      <td>0.0</td>\n",
       "      <td>0.0</td>\n",
       "      <td>1.0</td>\n",
       "      <td>0.0</td>\n",
       "      <td>0</td>\n",
       "      <td>1</td>\n",
       "    </tr>\n",
       "  </tbody>\n",
       "</table>\n",
       "<p>5 rows × 23 columns</p>\n",
       "</div>"
      ],
      "text/plain": [
       "   no_of_employees  yr_of_estab  prevailing_wage  continent_1  continent_2  \\\n",
       "0              567         1992       26842.9100          1.0          0.0   \n",
       "1              619         1938       66419.9800          0.0          0.0   \n",
       "2             2635         2005         887.2921          1.0          0.0   \n",
       "3             3184         1986       49435.8000          1.0          0.0   \n",
       "4             4681         1928       49865.1900          0.0          1.0   \n",
       "\n",
       "   continent_3  continent_4  continent_5  has_job_experience_1  \\\n",
       "0          0.0          0.0          0.0                   1.0   \n",
       "1          0.0          1.0          0.0                   0.0   \n",
       "2          0.0          0.0          0.0                   0.0   \n",
       "3          0.0          0.0          0.0                   1.0   \n",
       "4          0.0          0.0          0.0                   1.0   \n",
       "\n",
       "   full_time_position_1  ...  region_of_employment_4  education_of_employee_1  \\\n",
       "0                   1.0  ...                     0.0                      0.0   \n",
       "1                   1.0  ...                     0.0                      0.0   \n",
       "2                   1.0  ...                     0.0                      0.0   \n",
       "3                   1.0  ...                     0.0                      0.0   \n",
       "4                   1.0  ...                     1.0                      0.0   \n",
       "\n",
       "   education_of_employee_2  education_of_employee_3  unit_of_wage_1  \\\n",
       "0                      0.0                      0.0             0.0   \n",
       "1                      0.0                      0.0             0.0   \n",
       "2                      0.0                      1.0             0.0   \n",
       "3                      0.0                      0.0             0.0   \n",
       "4                      0.0                      0.0             0.0   \n",
       "\n",
       "   unit_of_wage_2  unit_of_wage_3  requires_job_training_1  case_status  \\\n",
       "0             0.0             1.0                      0.0            1   \n",
       "1             0.0             1.0                      0.0            1   \n",
       "2             0.0             0.0                      0.0            1   \n",
       "3             0.0             1.0                      1.0            1   \n",
       "4             0.0             1.0                      0.0            0   \n",
       "\n",
       "   class_pred  \n",
       "0           1  \n",
       "1           1  \n",
       "2           1  \n",
       "3           1  \n",
       "4           1  \n",
       "\n",
       "[5 rows x 23 columns]"
      ]
     },
     "execution_count": 49,
     "metadata": {},
     "output_type": "execute_result"
    }
   ],
   "source": [
    "# prepare a dataframe to evaluate the results. \n",
    "columns=np.round(prediction,0)\n",
    "predictions = pd.DataFrame(columns)\n",
    "test_y = validation['case_status']\n",
    "actual = test_y\n",
    "test_x = validation.drop(columns=['case_status'],axis=1)\n",
    "predictions.columns =['class_pred']\n",
    "# Concatenate them into a single dataframe\n",
    "output = pd.concat([test_x.reset_index(drop=True),actual.reset_index(drop=True),predictions.reset_index(drop=True)],axis=1)\n",
    "output['class_pred'] = output['class_pred'].astype(int)\n",
    "output.head()"
   ]
  },
  {
   "cell_type": "markdown",
   "id": "34b43acb-f598-4025-bd1b-3359f765194e",
   "metadata": {
    "tags": []
   },
   "source": [
    "#### Evaluate the model using performance metrics"
   ]
  },
  {
   "cell_type": "code",
   "execution_count": 50,
   "id": "2735e865-48c0-4520-886b-061addb8d9f7",
   "metadata": {
    "tags": []
   },
   "outputs": [],
   "source": [
    "from sklearn.metrics import confusion_matrix,accuracy_score,precision_score,recall_score,f1_score,classification_report"
   ]
  },
  {
   "cell_type": "markdown",
   "id": "0cbdc78b-95a7-43fd-83a1-f15e345311ee",
   "metadata": {},
   "source": [
    "Confusion Matrix"
   ]
  },
  {
   "cell_type": "code",
   "execution_count": 51,
   "id": "b7387cb3-c93e-4f8b-8712-6b305f3ad660",
   "metadata": {
    "tags": []
   },
   "outputs": [
    {
     "data": {
      "text/plain": [
       "array([[ 790,  842],\n",
       "       [ 506, 2958]])"
      ]
     },
     "execution_count": 51,
     "metadata": {},
     "output_type": "execute_result"
    }
   ],
   "source": [
    "confusion=confusion_matrix(output['case_status'],output['class_pred'])\n",
    "confusion "
   ]
  },
  {
   "cell_type": "code",
   "execution_count": 52,
   "id": "67c34847-70e4-48df-83d9-400d856dae57",
   "metadata": {
    "tags": []
   },
   "outputs": [],
   "source": [
    "# true pose and true negative, false negative false positive  \n",
    "true_pos=confusion[0][0]\n",
    "false_pos=confusion[0][1]\n",
    "false_neg=confusion[1][0]\n",
    "true_neg=confusion[1][1]"
   ]
  },
  {
   "cell_type": "markdown",
   "id": "1b1c7cab-fea0-41c8-83b5-a855a8abe3df",
   "metadata": {},
   "source": [
    "**Accuracy**: \n"
   ]
  },
  {
   "cell_type": "code",
   "execution_count": 53,
   "id": "efc5df4d-09d7-4641-be03-b0f84e9d53fd",
   "metadata": {
    "tags": []
   },
   "outputs": [
    {
     "data": {
      "text/plain": [
       "0.7354788069073783"
      ]
     },
     "execution_count": 53,
     "metadata": {},
     "output_type": "execute_result"
    }
   ],
   "source": [
    "accuracy=(true_pos + true_neg)/(true_pos+false_pos+false_neg+true_neg)\n",
    "accuracy"
   ]
  },
  {
   "cell_type": "markdown",
   "id": "c254be93-caa9-41ad-9e08-06c3fc02d663",
   "metadata": {},
   "source": [
    "**Precision**: \n"
   ]
  },
  {
   "cell_type": "code",
   "execution_count": 54,
   "id": "2d626a8f-32c2-477d-9c45-2f3e76910144",
   "metadata": {
    "tags": []
   },
   "outputs": [
    {
     "data": {
      "text/plain": [
       "0.4840686274509804"
      ]
     },
     "execution_count": 54,
     "metadata": {},
     "output_type": "execute_result"
    }
   ],
   "source": [
    "precision=(true_pos)/(true_pos+false_pos)\n",
    "precision"
   ]
  },
  {
   "cell_type": "markdown",
   "id": "b712eaa7-74aa-4ae9-a658-d3766e707f29",
   "metadata": {},
   "source": [
    "**Recall**:\n"
   ]
  },
  {
   "cell_type": "code",
   "execution_count": 55,
   "id": "562cdfc7-371a-4d6a-bf6d-1b9bfdc8b8c7",
   "metadata": {
    "tags": []
   },
   "outputs": [
    {
     "data": {
      "text/plain": [
       "0.6095679012345679"
      ]
     },
     "execution_count": 55,
     "metadata": {},
     "output_type": "execute_result"
    }
   ],
   "source": [
    "#recall_score=recall_score(output['case_status'],output['class_pred'])\n",
    "recall=(true_pos)/(true_pos+false_neg)\n",
    "recall"
   ]
  },
  {
   "cell_type": "markdown",
   "id": "4e1625be-d6d6-44e6-a832-b9d9b0cc70be",
   "metadata": {},
   "source": [
    "**F1 score**:\n"
   ]
  },
  {
   "cell_type": "code",
   "execution_count": 56,
   "id": "ddc1df57-45f7-4fad-951b-3fe81660db5c",
   "metadata": {
    "tags": []
   },
   "outputs": [
    {
     "data": {
      "text/plain": [
       "0.5396174863387979"
      ]
     },
     "execution_count": 56,
     "metadata": {},
     "output_type": "execute_result"
    }
   ],
   "source": [
    "#f1_score\n",
    "f1=(2*precision*recall)/(precision+recall)\n",
    "f1"
   ]
  },
  {
   "cell_type": "code",
   "execution_count": 57,
   "id": "e31fc36d-f3ed-4694-9a90-5da5d410c6ed",
   "metadata": {
    "tags": []
   },
   "outputs": [
    {
     "name": "stdout",
     "output_type": "stream",
     "text": [
      "[0.73547881 0.48406863 0.6095679  0.53961749]\n"
     ]
    }
   ],
   "source": [
    "base_model=np.array([accuracy,precision,recall,f1])\n",
    "print(base_model)"
   ]
  },
  {
   "cell_type": "markdown",
   "id": "0e2a9bc2-5f8a-437d-a004-ced398f53d78",
   "metadata": {
    "tags": []
   },
   "source": [
    "### Model Tuning\n",
    "\n",
    "**Hyper-parameter Tuning** is the art of figuring out what works best for your model - performing well statistically and aligning with your business context & needs"
   ]
  },
  {
   "cell_type": "code",
   "execution_count": null,
   "id": "523d2b51-1b81-4e01-ad57-d7984d6e7702",
   "metadata": {},
   "outputs": [],
   "source": [
    "# we choose F1 as a metric for the model, becasue we need to balance both recalland pression. we need to reduce the false nagative and false positiove. \n"
   ]
  },
  {
   "cell_type": "markdown",
   "id": "919cf6ba-5132-4564-81d1-7289ffce2ea3",
   "metadata": {
    "tags": []
   },
   "source": [
    "#### Define the parameter space & train the model\n",
    "\n",
    "Each model is build on a different algorithm, and hence the hyper-parameters may vary. "
   ]
  },
  {
   "cell_type": "code",
   "execution_count": 58,
   "id": "37699c99-81e9-40c1-9b1f-cc312bd16a37",
   "metadata": {
    "tags": []
   },
   "outputs": [],
   "source": [
    "## input train and validation \n",
    "bucket=bucket_name\n",
    "s3train = TrainingInput(\n",
    "    s3_data=\"s3://{}/{}/train.csv\".format(bucket, prefix_pro), content_type=\"csv\")\n",
    "\n",
    "s3validation = TrainingInput(\n",
    "    s3_data=\"s3://{}/{}/validation.csv\".format(bucket, prefix_pro), content_type=\"csv\")\n",
    "\n",
    "\n",
    "# define the hyperparameter \n",
    "\n",
    "hyperparameter_ranges={\n",
    "                    \"eta\":ContinuousParameter(0,0.9,scaling_type=\"Auto\"), \n",
    "                    \"max_depth\":IntegerParameter(2,10),\n",
    "                    \"subsample\":ContinuousParameter(0.3,1),\n",
    "                    'alpha': ContinuousParameter(0, 10,scaling_type=\"Linear\"),\n",
    "                    \"lambda\": ContinuousParameter(0.01, 10, scaling_type=\"Linear\"),\n",
    "                    'gamma':ContinuousParameter(0,10 ),\n",
    "                    'min_child_weight': ContinuousParameter(0, 5),\n",
    "   \n",
    "}\n",
    "                     \n",
    " \n",
    "# Create an optimizer instance \n",
    "tuner = HyperparameterTuner( \n",
    "    estimator=xgb, # model training instance\n",
    "    hyperparameter_ranges=hyperparameter_ranges, # parameter space\n",
    "    base_tuning_job_name=\"xgboost-tuning\", # Prefix of the tuning job\n",
    "    objective_type=\"Maximize\", \n",
    "       max_jobs=10,\n",
    "    max_parallel_jobs=5,\n",
    "     objective_metric_name=\"validation:f1\",\n",
    "   \n",
    "    metric_definitions=[\n",
    "        {\"Name\": \"validation:f1\", \"Regex\": \".*\\[[0-9]+\\].*#011validation-f1:([-+]?[0-9]*\\.?[0-9]+(?:[eE][-+]?[0-9]+)?).*\"},\n",
    "        {\"Name\": \"train:f1\", \"Regex\": \"\t.*\\[[0-9]+\\].*#011train-f1:([-+]?[0-9]*\\.?[0-9]+(?:[eE][-+]?[0-9]+)?).*\"},# search logs on cloudwatch\n",
    "    ],\n",
    "    strategy= 'Bayesian',\n",
    "    \n",
    ")                 "
   ]
  },
  {
   "cell_type": "code",
   "execution_count": 59,
   "id": "ea0f9860-5eb6-4962-b540-e26c3aa83e7b",
   "metadata": {
    "tags": []
   },
   "outputs": [
    {
     "name": "stdout",
     "output_type": "stream",
     "text": [
      "..............................................................................!\n"
     ]
    }
   ],
   "source": [
    " #{\"train\": s3train, \"validation\": s3validation},\n",
    "tuner.fit({\"train\": s3train,\"validation\":s3validation}, include_cls_metadata=False,wait=True,\n",
    "    job_name=\"xgb-tuning-\" + strftime(\"%Y%m%d-%H-%M-%S\", gmtime()),logs=True,\n",
    ")"
   ]
  },
  {
   "cell_type": "code",
   "execution_count": 61,
   "id": "dd13e222-1add-4424-8cd4-2980c2b62e68",
   "metadata": {
    "tags": []
   },
   "outputs": [
    {
     "data": {
      "text/plain": [
       "'Completed'"
      ]
     },
     "execution_count": 61,
     "metadata": {},
     "output_type": "execute_result"
    }
   ],
   "source": [
    "# using sagemaker to check the hyper tuning job performance. \n",
    "boto3.client(\"sagemaker\").describe_hyper_parameter_tuning_job(\n",
    "    HyperParameterTuningJobName=tuner.latest_tuning_job.job_name\n",
    ")[\"HyperParameterTuningJobStatus\"]"
   ]
  },
  {
   "cell_type": "code",
   "execution_count": 62,
   "id": "78014400",
   "metadata": {
    "tags": []
   },
   "outputs": [
    {
     "data": {
      "text/html": [
       "<div>\n",
       "<style scoped>\n",
       "    .dataframe tbody tr th:only-of-type {\n",
       "        vertical-align: middle;\n",
       "    }\n",
       "\n",
       "    .dataframe tbody tr th {\n",
       "        vertical-align: top;\n",
       "    }\n",
       "\n",
       "    .dataframe thead th {\n",
       "        text-align: right;\n",
       "    }\n",
       "</style>\n",
       "<table border=\"1\" class=\"dataframe\">\n",
       "  <thead>\n",
       "    <tr style=\"text-align: right;\">\n",
       "      <th></th>\n",
       "      <th>alpha</th>\n",
       "      <th>eta</th>\n",
       "      <th>gamma</th>\n",
       "      <th>lambda</th>\n",
       "      <th>max_depth</th>\n",
       "      <th>min_child_weight</th>\n",
       "      <th>subsample</th>\n",
       "      <th>TrainingJobName</th>\n",
       "      <th>TrainingJobStatus</th>\n",
       "      <th>FinalObjectiveValue</th>\n",
       "      <th>TrainingStartTime</th>\n",
       "      <th>TrainingEndTime</th>\n",
       "      <th>TrainingElapsedTimeSeconds</th>\n",
       "    </tr>\n",
       "  </thead>\n",
       "  <tbody>\n",
       "    <tr>\n",
       "      <th>6</th>\n",
       "      <td>6.592625</td>\n",
       "      <td>0.238201</td>\n",
       "      <td>6.410164</td>\n",
       "      <td>4.707249</td>\n",
       "      <td>8.0</td>\n",
       "      <td>1.488435</td>\n",
       "      <td>0.914300</td>\n",
       "      <td>xgb-tuning-20230210-17-52-20-004-f1cba8c3</td>\n",
       "      <td>Completed</td>\n",
       "      <td>0.69433</td>\n",
       "      <td>2023-02-10 17:54:27+00:00</td>\n",
       "      <td>2023-02-10 17:56:15+00:00</td>\n",
       "      <td>108.0</td>\n",
       "    </tr>\n",
       "    <tr>\n",
       "      <th>7</th>\n",
       "      <td>4.105448</td>\n",
       "      <td>0.670518</td>\n",
       "      <td>8.738690</td>\n",
       "      <td>3.520992</td>\n",
       "      <td>10.0</td>\n",
       "      <td>3.581332</td>\n",
       "      <td>0.563094</td>\n",
       "      <td>xgb-tuning-20230210-17-52-20-003-8a333df4</td>\n",
       "      <td>Completed</td>\n",
       "      <td>0.69360</td>\n",
       "      <td>2023-02-10 17:54:04+00:00</td>\n",
       "      <td>2023-02-10 17:55:52+00:00</td>\n",
       "      <td>108.0</td>\n",
       "    </tr>\n",
       "    <tr>\n",
       "      <th>1</th>\n",
       "      <td>6.639240</td>\n",
       "      <td>0.136881</td>\n",
       "      <td>5.241214</td>\n",
       "      <td>3.571540</td>\n",
       "      <td>8.0</td>\n",
       "      <td>1.900164</td>\n",
       "      <td>0.912782</td>\n",
       "      <td>xgb-tuning-20230210-17-52-20-009-981d5a42</td>\n",
       "      <td>Completed</td>\n",
       "      <td>0.69344</td>\n",
       "      <td>2023-02-10 17:56:48+00:00</td>\n",
       "      <td>2023-02-10 17:57:26+00:00</td>\n",
       "      <td>38.0</td>\n",
       "    </tr>\n",
       "    <tr>\n",
       "      <th>9</th>\n",
       "      <td>1.237635</td>\n",
       "      <td>0.727635</td>\n",
       "      <td>9.018027</td>\n",
       "      <td>4.964044</td>\n",
       "      <td>10.0</td>\n",
       "      <td>0.661026</td>\n",
       "      <td>0.725597</td>\n",
       "      <td>xgb-tuning-20230210-17-52-20-001-71fff89c</td>\n",
       "      <td>Completed</td>\n",
       "      <td>0.69183</td>\n",
       "      <td>2023-02-10 17:54:33+00:00</td>\n",
       "      <td>2023-02-10 17:56:26+00:00</td>\n",
       "      <td>113.0</td>\n",
       "    </tr>\n",
       "    <tr>\n",
       "      <th>5</th>\n",
       "      <td>7.377655</td>\n",
       "      <td>0.515698</td>\n",
       "      <td>5.934360</td>\n",
       "      <td>1.326187</td>\n",
       "      <td>5.0</td>\n",
       "      <td>4.186140</td>\n",
       "      <td>0.450955</td>\n",
       "      <td>xgb-tuning-20230210-17-52-20-005-e96c7568</td>\n",
       "      <td>Completed</td>\n",
       "      <td>0.69041</td>\n",
       "      <td>2023-02-10 17:54:37+00:00</td>\n",
       "      <td>2023-02-10 17:56:44+00:00</td>\n",
       "      <td>127.0</td>\n",
       "    </tr>\n",
       "    <tr>\n",
       "      <th>0</th>\n",
       "      <td>6.403197</td>\n",
       "      <td>0.370121</td>\n",
       "      <td>7.431856</td>\n",
       "      <td>6.268758</td>\n",
       "      <td>8.0</td>\n",
       "      <td>1.625142</td>\n",
       "      <td>0.787864</td>\n",
       "      <td>xgb-tuning-20230210-17-52-20-010-b8b62dc3</td>\n",
       "      <td>Completed</td>\n",
       "      <td>0.68943</td>\n",
       "      <td>2023-02-10 17:57:00+00:00</td>\n",
       "      <td>2023-02-10 17:58:40+00:00</td>\n",
       "      <td>100.0</td>\n",
       "    </tr>\n",
       "    <tr>\n",
       "      <th>8</th>\n",
       "      <td>2.275326</td>\n",
       "      <td>0.713760</td>\n",
       "      <td>6.305467</td>\n",
       "      <td>6.411131</td>\n",
       "      <td>5.0</td>\n",
       "      <td>4.330617</td>\n",
       "      <td>0.858874</td>\n",
       "      <td>xgb-tuning-20230210-17-52-20-002-24664479</td>\n",
       "      <td>Completed</td>\n",
       "      <td>0.68846</td>\n",
       "      <td>2023-02-10 17:54:23+00:00</td>\n",
       "      <td>2023-02-10 17:56:16+00:00</td>\n",
       "      <td>113.0</td>\n",
       "    </tr>\n",
       "    <tr>\n",
       "      <th>3</th>\n",
       "      <td>4.675147</td>\n",
       "      <td>0.531365</td>\n",
       "      <td>6.296973</td>\n",
       "      <td>5.525788</td>\n",
       "      <td>9.0</td>\n",
       "      <td>0.120620</td>\n",
       "      <td>0.764713</td>\n",
       "      <td>xgb-tuning-20230210-17-52-20-007-4d9aacd7</td>\n",
       "      <td>Completed</td>\n",
       "      <td>0.68723</td>\n",
       "      <td>2023-02-10 17:56:35+00:00</td>\n",
       "      <td>2023-02-10 17:57:18+00:00</td>\n",
       "      <td>43.0</td>\n",
       "    </tr>\n",
       "    <tr>\n",
       "      <th>2</th>\n",
       "      <td>8.688197</td>\n",
       "      <td>0.694573</td>\n",
       "      <td>2.712939</td>\n",
       "      <td>7.612774</td>\n",
       "      <td>10.0</td>\n",
       "      <td>3.251525</td>\n",
       "      <td>0.503768</td>\n",
       "      <td>xgb-tuning-20230210-17-52-20-008-6b14d2f4</td>\n",
       "      <td>Completed</td>\n",
       "      <td>0.68276</td>\n",
       "      <td>2023-02-10 17:56:38+00:00</td>\n",
       "      <td>2023-02-10 17:57:15+00:00</td>\n",
       "      <td>37.0</td>\n",
       "    </tr>\n",
       "    <tr>\n",
       "      <th>4</th>\n",
       "      <td>1.127740</td>\n",
       "      <td>0.437483</td>\n",
       "      <td>0.218608</td>\n",
       "      <td>3.618339</td>\n",
       "      <td>10.0</td>\n",
       "      <td>1.687255</td>\n",
       "      <td>0.759437</td>\n",
       "      <td>xgb-tuning-20230210-17-52-20-006-7f9a1129</td>\n",
       "      <td>Completed</td>\n",
       "      <td>0.65496</td>\n",
       "      <td>2023-02-10 17:56:34+00:00</td>\n",
       "      <td>2023-02-10 17:57:17+00:00</td>\n",
       "      <td>43.0</td>\n",
       "    </tr>\n",
       "  </tbody>\n",
       "</table>\n",
       "</div>"
      ],
      "text/plain": [
       "      alpha       eta     gamma    lambda  max_depth  min_child_weight  \\\n",
       "6  6.592625  0.238201  6.410164  4.707249        8.0          1.488435   \n",
       "7  4.105448  0.670518  8.738690  3.520992       10.0          3.581332   \n",
       "1  6.639240  0.136881  5.241214  3.571540        8.0          1.900164   \n",
       "9  1.237635  0.727635  9.018027  4.964044       10.0          0.661026   \n",
       "5  7.377655  0.515698  5.934360  1.326187        5.0          4.186140   \n",
       "0  6.403197  0.370121  7.431856  6.268758        8.0          1.625142   \n",
       "8  2.275326  0.713760  6.305467  6.411131        5.0          4.330617   \n",
       "3  4.675147  0.531365  6.296973  5.525788        9.0          0.120620   \n",
       "2  8.688197  0.694573  2.712939  7.612774       10.0          3.251525   \n",
       "4  1.127740  0.437483  0.218608  3.618339       10.0          1.687255   \n",
       "\n",
       "   subsample                            TrainingJobName TrainingJobStatus  \\\n",
       "6   0.914300  xgb-tuning-20230210-17-52-20-004-f1cba8c3         Completed   \n",
       "7   0.563094  xgb-tuning-20230210-17-52-20-003-8a333df4         Completed   \n",
       "1   0.912782  xgb-tuning-20230210-17-52-20-009-981d5a42         Completed   \n",
       "9   0.725597  xgb-tuning-20230210-17-52-20-001-71fff89c         Completed   \n",
       "5   0.450955  xgb-tuning-20230210-17-52-20-005-e96c7568         Completed   \n",
       "0   0.787864  xgb-tuning-20230210-17-52-20-010-b8b62dc3         Completed   \n",
       "8   0.858874  xgb-tuning-20230210-17-52-20-002-24664479         Completed   \n",
       "3   0.764713  xgb-tuning-20230210-17-52-20-007-4d9aacd7         Completed   \n",
       "2   0.503768  xgb-tuning-20230210-17-52-20-008-6b14d2f4         Completed   \n",
       "4   0.759437  xgb-tuning-20230210-17-52-20-006-7f9a1129         Completed   \n",
       "\n",
       "   FinalObjectiveValue         TrainingStartTime           TrainingEndTime  \\\n",
       "6              0.69433 2023-02-10 17:54:27+00:00 2023-02-10 17:56:15+00:00   \n",
       "7              0.69360 2023-02-10 17:54:04+00:00 2023-02-10 17:55:52+00:00   \n",
       "1              0.69344 2023-02-10 17:56:48+00:00 2023-02-10 17:57:26+00:00   \n",
       "9              0.69183 2023-02-10 17:54:33+00:00 2023-02-10 17:56:26+00:00   \n",
       "5              0.69041 2023-02-10 17:54:37+00:00 2023-02-10 17:56:44+00:00   \n",
       "0              0.68943 2023-02-10 17:57:00+00:00 2023-02-10 17:58:40+00:00   \n",
       "8              0.68846 2023-02-10 17:54:23+00:00 2023-02-10 17:56:16+00:00   \n",
       "3              0.68723 2023-02-10 17:56:35+00:00 2023-02-10 17:57:18+00:00   \n",
       "2              0.68276 2023-02-10 17:56:38+00:00 2023-02-10 17:57:15+00:00   \n",
       "4              0.65496 2023-02-10 17:56:34+00:00 2023-02-10 17:57:17+00:00   \n",
       "\n",
       "   TrainingElapsedTimeSeconds  \n",
       "6                       108.0  \n",
       "7                       108.0  \n",
       "1                        38.0  \n",
       "9                       113.0  \n",
       "5                       127.0  \n",
       "0                       100.0  \n",
       "8                       113.0  \n",
       "3                        43.0  \n",
       "2                        37.0  \n",
       "4                        43.0  "
      ]
     },
     "execution_count": 62,
     "metadata": {},
     "output_type": "execute_result"
    }
   ],
   "source": [
    "# convert the tuning model results to dataframe and sorting based on the final object values. \n",
    "results = tuner.analytics().dataframe()\n",
    "results.sort_values(by='FinalObjectiveValue',ascending=False)"
   ]
  },
  {
   "cell_type": "code",
   "execution_count": 63,
   "id": "f03a813f-1d06-4f88-bb17-72bd52c3d61b",
   "metadata": {
    "tags": []
   },
   "outputs": [
    {
     "name": "stdout",
     "output_type": "stream",
     "text": [
      "Best model found so far:\n",
      "{'alpha': '6.592624724832314', 'eta': '0.23820098017812882', 'gamma': '6.410164036671141', 'lambda': '4.707248702029074', 'max_depth': '8', 'min_child_weight': '1.4884349694439298', 'subsample': '0.9142998169718173'}\n"
     ]
    }
   ],
   "source": [
    "tuning_job_result=boto3.client(\"sagemaker\").describe_hyper_parameter_tuning_job(\n",
    "    HyperParameterTuningJobName=tuner.latest_tuning_job.job_name\n",
    ")\n",
    "if tuning_job_result.get(\"BestTrainingJob\", None):\n",
    "    dic_param=tuning_job_result[\"BestTrainingJob\"]['TunedHyperParameters']\n",
    "    print(\"Best model found so far:\")\n",
    "    print(tuning_job_result[\"BestTrainingJob\"]['TunedHyperParameters'])\n"
   ]
  },
  {
   "cell_type": "code",
   "execution_count": 75,
   "id": "c93513b1",
   "metadata": {
    "tags": []
   },
   "outputs": [
    {
     "name": "stdout",
     "output_type": "stream",
     "text": [
      " verbosity = 0 ,\n",
      " objective = binary:logistic ,\n",
      " num_round = 100 ,\n",
      " alpha = 6.592624724832314 ,\n",
      " eta = 0.23820098017812882 ,\n",
      " gamma = 6.410164036671141 ,\n",
      " lambda = 4.707248702029074 ,\n",
      " max_depth = 8 ,\n",
      " min_child_weight = 1.4884349694439298 ,\n",
      " subsample = 0.9142998169718173 ,\n"
     ]
    }
   ],
   "source": [
    "#auto input for the hyperparameter using function to dic\n",
    "#hyp1.update(tuning_job_result[\"BestTrainingJob\"]['TunedHyperParameters'])\n",
    "hypers=to_dic(hyp1)       \n",
    "hypers"
   ]
  },
  {
   "cell_type": "code",
   "execution_count": 77,
   "id": "a7f2b476-2b9f-4358-ae6d-c6bfc2ee8e86",
   "metadata": {
    "tags": []
   },
   "outputs": [
    {
     "name": "stdout",
     "output_type": "stream",
     "text": [
      "2023-02-10 18:10:50 Starting - Starting the training job...ProfilerReport-1676052650: InProgress\n",
      "...\n",
      "2023-02-10 18:11:23 Starting - Preparing the instances for training......\n",
      "2023-02-10 18:12:40 Downloading - Downloading input data...\n",
      "2023-02-10 18:13:19 Training - Downloading the training image...\n",
      "2023-02-10 18:13:45 Training - Training image download completed. Training in progress...\u001b[34m[2023-02-10 18:14:02.330 ip-10-2-212-50.ec2.internal:7 INFO utils.py:27] RULE_JOB_STOP_SIGNAL_FILENAME: None\u001b[0m\n",
      "\u001b[34m[2023-02-10:18:14:02:INFO] Imported framework sagemaker_xgboost_container.training\u001b[0m\n",
      "\u001b[34m[2023-02-10:18:14:02:INFO] Failed to parse hyperparameter objective value binary:logistic to Json.\u001b[0m\n",
      "\u001b[34mReturning the value itself\u001b[0m\n",
      "\u001b[34m[2023-02-10:18:14:02:INFO] No GPUs detected (normal if no gpus installed)\u001b[0m\n",
      "\u001b[34m[2023-02-10:18:14:02:INFO] Running XGBoost Sagemaker in algorithm mode\u001b[0m\n",
      "\u001b[34m[2023-02-10:18:14:02:INFO] Determined delimiter of CSV input is ','\u001b[0m\n",
      "\u001b[34m[2023-02-10:18:14:02:INFO] Determined delimiter of CSV input is ','\u001b[0m\n",
      "\u001b[34m[2023-02-10:18:14:02:INFO] files path: /opt/ml/input/data/train\u001b[0m\n",
      "\u001b[34m[2023-02-10:18:14:02:INFO] Determined delimiter of CSV input is ','\u001b[0m\n",
      "\u001b[34m[2023-02-10:18:14:02:INFO] files path: /opt/ml/input/data/validation\u001b[0m\n",
      "\u001b[34m[2023-02-10:18:14:02:INFO] Determined delimiter of CSV input is ','\u001b[0m\n",
      "\u001b[34m[2023-02-10:18:14:02:INFO] Single node training.\u001b[0m\n",
      "\u001b[34m[2023-02-10:18:14:02:INFO] Train matrix has 20385 rows and 21 columns\u001b[0m\n",
      "\u001b[34m[2023-02-10:18:14:02:INFO] Validation matrix has 5097 rows\u001b[0m\n",
      "\u001b[34m[2023-02-10 18:14:02.470 ip-10-2-212-50.ec2.internal:7 INFO json_config.py:91] Creating hook from json_config at /opt/ml/input/config/debughookconfig.json.\u001b[0m\n",
      "\u001b[34m[0]#011train-logloss:0.63244#011validation-logloss:0.63306\u001b[0m\n",
      "\u001b[34m[1]#011train-logloss:0.59445#011validation-logloss:0.59518\u001b[0m\n",
      "\u001b[34m[2]#011train-logloss:0.56981#011validation-logloss:0.57049\u001b[0m\n",
      "\u001b[34m[3]#011train-logloss:0.55261#011validation-logloss:0.55284\u001b[0m\n",
      "\u001b[34m[4]#011train-logloss:0.54051#011validation-logloss:0.54085\u001b[0m\n",
      "\u001b[34m[5]#011train-logloss:0.53231#011validation-logloss:0.53260\u001b[0m\n",
      "\u001b[34m[6]#011train-logloss:0.52678#011validation-logloss:0.52715\u001b[0m\n",
      "\u001b[34m[7]#011train-logloss:0.52244#011validation-logloss:0.52244\u001b[0m\n",
      "\u001b[34m[8]#011train-logloss:0.51912#011validation-logloss:0.51991\u001b[0m\n",
      "\u001b[34m[9]#011train-logloss:0.51687#011validation-logloss:0.51762\u001b[0m\n",
      "\u001b[34m[10]#011train-logloss:0.51455#011validation-logloss:0.51563\u001b[0m\n",
      "\u001b[34m[11]#011train-logloss:0.51309#011validation-logloss:0.51480\u001b[0m\n",
      "\u001b[34m[12]#011train-logloss:0.51188#011validation-logloss:0.51356\u001b[0m\n",
      "\u001b[34m[13]#011train-logloss:0.51092#011validation-logloss:0.51274\u001b[0m\n",
      "\u001b[34m[14]#011train-logloss:0.50964#011validation-logloss:0.51167\u001b[0m\n",
      "\u001b[34m[15]#011train-logloss:0.50912#011validation-logloss:0.51148\u001b[0m\n",
      "\u001b[34m[16]#011train-logloss:0.50861#011validation-logloss:0.51109\u001b[0m\n",
      "\u001b[34m[17]#011train-logloss:0.50757#011validation-logloss:0.51059\u001b[0m\n",
      "\u001b[34m[18]#011train-logloss:0.50725#011validation-logloss:0.51029\u001b[0m\n",
      "\u001b[34m[19]#011train-logloss:0.50683#011validation-logloss:0.51035\u001b[0m\n",
      "\u001b[34m[20]#011train-logloss:0.50650#011validation-logloss:0.51020\u001b[0m\n",
      "\u001b[34m[21]#011train-logloss:0.50617#011validation-logloss:0.51001\u001b[0m\n",
      "\u001b[34m[22]#011train-logloss:0.50567#011validation-logloss:0.50982\u001b[0m\n",
      "\u001b[34m[23]#011train-logloss:0.50567#011validation-logloss:0.50978\u001b[0m\n",
      "\u001b[34m[24]#011train-logloss:0.50567#011validation-logloss:0.50977\u001b[0m\n",
      "\u001b[34m[25]#011train-logloss:0.50552#011validation-logloss:0.50988\u001b[0m\n",
      "\u001b[34m[26]#011train-logloss:0.50530#011validation-logloss:0.50981\u001b[0m\n",
      "\u001b[34m[27]#011train-logloss:0.50518#011validation-logloss:0.50964\u001b[0m\n",
      "\u001b[34m[28]#011train-logloss:0.50487#011validation-logloss:0.50987\u001b[0m\n",
      "\u001b[34m[29]#011train-logloss:0.50487#011validation-logloss:0.50988\u001b[0m\n",
      "\u001b[34m[30]#011train-logloss:0.50455#011validation-logloss:0.51002\u001b[0m\n",
      "\u001b[34m[31]#011train-logloss:0.50419#011validation-logloss:0.51021\u001b[0m\n",
      "\u001b[34m[32]#011train-logloss:0.50419#011validation-logloss:0.51024\u001b[0m\n",
      "\u001b[34m[33]#011train-logloss:0.50419#011validation-logloss:0.51024\u001b[0m\n",
      "\u001b[34m[34]#011train-logloss:0.50386#011validation-logloss:0.50979\u001b[0m\n",
      "\u001b[34m[35]#011train-logloss:0.50356#011validation-logloss:0.50995\u001b[0m\n",
      "\u001b[34m[36]#011train-logloss:0.50356#011validation-logloss:0.50995\u001b[0m\n",
      "\u001b[34m[37]#011train-logloss:0.50334#011validation-logloss:0.50996\u001b[0m\n",
      "\u001b[34m[38]#011train-logloss:0.50334#011validation-logloss:0.50995\u001b[0m\n",
      "\u001b[34m[39]#011train-logloss:0.50334#011validation-logloss:0.50997\u001b[0m\n",
      "\u001b[34m[40]#011train-logloss:0.50307#011validation-logloss:0.50980\u001b[0m\n",
      "\u001b[34m[41]#011train-logloss:0.50307#011validation-logloss:0.50980\u001b[0m\n",
      "\u001b[34m[42]#011train-logloss:0.50307#011validation-logloss:0.50979\u001b[0m\n",
      "\u001b[34m[43]#011train-logloss:0.50307#011validation-logloss:0.50979\u001b[0m\n",
      "\u001b[34m[44]#011train-logloss:0.50282#011validation-logloss:0.50975\u001b[0m\n",
      "\u001b[34m[45]#011train-logloss:0.50262#011validation-logloss:0.50992\u001b[0m\n",
      "\u001b[34m[46]#011train-logloss:0.50262#011validation-logloss:0.50992\u001b[0m\n",
      "\u001b[34m[47]#011train-logloss:0.50240#011validation-logloss:0.50977\u001b[0m\n",
      "\u001b[34m[48]#011train-logloss:0.50240#011validation-logloss:0.50978\u001b[0m\n",
      "\u001b[34m[49]#011train-logloss:0.50240#011validation-logloss:0.50979\u001b[0m\n",
      "\u001b[34m[50]#011train-logloss:0.50240#011validation-logloss:0.50977\u001b[0m\n",
      "\u001b[34m[51]#011train-logloss:0.50240#011validation-logloss:0.50976\u001b[0m\n",
      "\u001b[34m[52]#011train-logloss:0.50240#011validation-logloss:0.50976\u001b[0m\n",
      "\u001b[34m[53]#011train-logloss:0.50240#011validation-logloss:0.50975\u001b[0m\n",
      "\u001b[34m[54]#011train-logloss:0.50225#011validation-logloss:0.50987\u001b[0m\n",
      "\u001b[34m[55]#011train-logloss:0.50225#011validation-logloss:0.50987\u001b[0m\n",
      "\u001b[34m[56]#011train-logloss:0.50212#011validation-logloss:0.50974\u001b[0m\n",
      "\u001b[34m[57]#011train-logloss:0.50212#011validation-logloss:0.50974\u001b[0m\n",
      "\u001b[34m[58]#011train-logloss:0.50212#011validation-logloss:0.50974\u001b[0m\n",
      "\u001b[34m[59]#011train-logloss:0.50212#011validation-logloss:0.50973\u001b[0m\n",
      "\u001b[34m[60]#011train-logloss:0.50192#011validation-logloss:0.50981\u001b[0m\n",
      "\u001b[34m[61]#011train-logloss:0.50192#011validation-logloss:0.50982\u001b[0m\n",
      "\u001b[34m[62]#011train-logloss:0.50192#011validation-logloss:0.50982\u001b[0m\n",
      "\u001b[34m[63]#011train-logloss:0.50192#011validation-logloss:0.50981\u001b[0m\n",
      "\u001b[34m[64]#011train-logloss:0.50192#011validation-logloss:0.50983\u001b[0m\n",
      "\u001b[34m[65]#011train-logloss:0.50192#011validation-logloss:0.50981\u001b[0m\n",
      "\u001b[34m[66]#011train-logloss:0.50192#011validation-logloss:0.50981\u001b[0m\n",
      "\u001b[34m[67]#011train-logloss:0.50192#011validation-logloss:0.50982\u001b[0m\n",
      "\u001b[34m[68]#011train-logloss:0.50192#011validation-logloss:0.50983\u001b[0m\n",
      "\u001b[34m[69]#011train-logloss:0.50168#011validation-logloss:0.50991\u001b[0m\n",
      "\u001b[34m[70]#011train-logloss:0.50168#011validation-logloss:0.50991\u001b[0m\n",
      "\u001b[34m[71]#011train-logloss:0.50143#011validation-logloss:0.50962\u001b[0m\n",
      "\u001b[34m[72]#011train-logloss:0.50120#011validation-logloss:0.50941\u001b[0m\n",
      "\u001b[34m[73]#011train-logloss:0.50120#011validation-logloss:0.50942\u001b[0m\n",
      "\u001b[34m[74]#011train-logloss:0.50120#011validation-logloss:0.50941\u001b[0m\n",
      "\u001b[34m[75]#011train-logloss:0.50120#011validation-logloss:0.50941\u001b[0m\n",
      "\u001b[34m[76]#011train-logloss:0.50120#011validation-logloss:0.50940\u001b[0m\n",
      "\u001b[34m[77]#011train-logloss:0.50120#011validation-logloss:0.50941\u001b[0m\n",
      "\u001b[34m[78]#011train-logloss:0.50120#011validation-logloss:0.50941\u001b[0m\n",
      "\u001b[34m[79]#011train-logloss:0.50120#011validation-logloss:0.50941\u001b[0m\n",
      "\u001b[34m[80]#011train-logloss:0.50120#011validation-logloss:0.50942\u001b[0m\n",
      "\u001b[34m[81]#011train-logloss:0.50120#011validation-logloss:0.50942\u001b[0m\n",
      "\u001b[34m[82]#011train-logloss:0.50103#011validation-logloss:0.50952\u001b[0m\n",
      "\u001b[34m[83]#011train-logloss:0.50103#011validation-logloss:0.50951\u001b[0m\n",
      "\u001b[34m[84]#011train-logloss:0.50103#011validation-logloss:0.50950\u001b[0m\n",
      "\u001b[34m[85]#011train-logloss:0.50103#011validation-logloss:0.50948\u001b[0m\n",
      "\u001b[34m[86]#011train-logloss:0.50103#011validation-logloss:0.50948\u001b[0m\n",
      "\u001b[34m[87]#011train-logloss:0.50103#011validation-logloss:0.50947\u001b[0m\n",
      "\u001b[34m[88]#011train-logloss:0.50103#011validation-logloss:0.50947\u001b[0m\n",
      "\u001b[34m[89]#011train-logloss:0.50103#011validation-logloss:0.50947\u001b[0m\n",
      "\u001b[34m[90]#011train-logloss:0.50103#011validation-logloss:0.50950\u001b[0m\n",
      "\u001b[34m[91]#011train-logloss:0.50103#011validation-logloss:0.50950\u001b[0m\n",
      "\u001b[34m[92]#011train-logloss:0.50103#011validation-logloss:0.50951\u001b[0m\n",
      "\u001b[34m[93]#011train-logloss:0.50103#011validation-logloss:0.50947\u001b[0m\n",
      "\u001b[34m[94]#011train-logloss:0.50103#011validation-logloss:0.50948\u001b[0m\n",
      "\u001b[34m[95]#011train-logloss:0.50103#011validation-logloss:0.50949\u001b[0m\n",
      "\u001b[34m[96]#011train-logloss:0.50103#011validation-logloss:0.50952\u001b[0m\n",
      "\u001b[34m[97]#011train-logloss:0.50103#011validation-logloss:0.50953\u001b[0m\n",
      "\u001b[34m[98]#011train-logloss:0.50103#011validation-logloss:0.50953\u001b[0m\n",
      "\u001b[34m[99]#011train-logloss:0.50103#011validation-logloss:0.50953\u001b[0m\n",
      "\n",
      "2023-02-10 18:14:19 Uploading - Uploading generated training model\n",
      "2023-02-10 18:14:39 Completed - Training job completed\n",
      "Training seconds: 108\n",
      "Billable seconds: 108\n"
     ]
    }
   ],
   "source": [
    "# rebuild the model \n",
    "train_prefix='xgb_tuned_model'\n",
    "tuned_xgb=sagemaker.estimator.Estimator(\n",
    "    \n",
    "    container,\n",
    "    role,\n",
    "    instance_count=1,\n",
    "    instance_type='ml.m4.xlarge',\n",
    "    output_path=\"s3://{}/{}/output\".format(bucket_name,train_prefix),\n",
    "    sagemaker_session=session,\n",
    ")\n",
    "# set some hyperparameter for the base xgboost model \n",
    "tuned_xgb.set_hyperparameters(\n",
    " verbosity = 0 ,\n",
    " objective = 'binary:logistic' ,\n",
    " num_round = 100 ,\n",
    " alpha = 6 ,\n",
    " eta = 0.23 ,\n",
    " gamma = 6.4 ,\n",
    " max_depth = 8 ,\n",
    " min_child_weight = 1.4 ,\n",
    " subsample = 0.9,)\n",
    "tuned_xgb.fit({'train':s3_input_train,'validation':s3_input_val})\n"
   ]
  },
  {
   "cell_type": "markdown",
   "id": "4619bbc0-b2ba-481c-9f08-30f717aec921",
   "metadata": {
    "tags": []
   },
   "source": [
    "### Deploy the tuned model"
   ]
  },
  {
   "cell_type": "code",
   "execution_count": 87,
   "id": "80005458-9620-4474-a4b9-64b86f09efad",
   "metadata": {
    "tags": []
   },
   "outputs": [
    {
     "name": "stdout",
     "output_type": "stream",
     "text": [
      "------!"
     ]
    }
   ],
   "source": [
    "tuned_xgb_predictor=tuned_xgb.deploy(instance_type=\"ml.m5.xlarge\", initial_instance_count=1)"
   ]
  },
  {
   "cell_type": "code",
   "execution_count": 125,
   "id": "dae2953b",
   "metadata": {
    "tags": []
   },
   "outputs": [],
   "source": [
    "# prediction \n",
    "tuned_xgb_predictor.serializer = sagemaker.serializers.CSVSerializer()\n",
    "def predict(data,rows=200):\n",
    "    split_array=np.array_split(data,int(data.shape[0]/float(rows)+1))\n",
    "    prediction=\"\"\n",
    "    for array in split_array:\n",
    "        prediction=\"\".join([prediction,tuned_xgb_predictor.predict(array).decode('utf-8')])\n",
    "    return prediction.split(\"\\n\")[:-1]\n",
    "predictions=predict(validation.drop('case_status',axis=1).values)\n",
    "#print(predictions)\n"
   ]
  },
  {
   "cell_type": "markdown",
   "id": "36ff5b1d-acd3-4360-9cef-e21a82ac2542",
   "metadata": {},
   "source": [
    "#### Save the predictions"
   ]
  },
  {
   "cell_type": "code",
   "execution_count": 126,
   "id": "4536a1b6-ceaf-4594-bb87-77302e5c463c",
   "metadata": {
    "tags": []
   },
   "outputs": [
    {
     "data": {
      "text/html": [
       "<div>\n",
       "<style scoped>\n",
       "    .dataframe tbody tr th:only-of-type {\n",
       "        vertical-align: middle;\n",
       "    }\n",
       "\n",
       "    .dataframe tbody tr th {\n",
       "        vertical-align: top;\n",
       "    }\n",
       "\n",
       "    .dataframe thead th {\n",
       "        text-align: right;\n",
       "    }\n",
       "</style>\n",
       "<table border=\"1\" class=\"dataframe\">\n",
       "  <thead>\n",
       "    <tr style=\"text-align: right;\">\n",
       "      <th></th>\n",
       "      <th>no_of_employees</th>\n",
       "      <th>yr_of_estab</th>\n",
       "      <th>prevailing_wage</th>\n",
       "      <th>continent_1</th>\n",
       "      <th>continent_2</th>\n",
       "      <th>continent_3</th>\n",
       "      <th>continent_4</th>\n",
       "      <th>continent_5</th>\n",
       "      <th>has_job_experience_1</th>\n",
       "      <th>full_time_position_1</th>\n",
       "      <th>...</th>\n",
       "      <th>region_of_employment_4</th>\n",
       "      <th>education_of_employee_1</th>\n",
       "      <th>education_of_employee_2</th>\n",
       "      <th>education_of_employee_3</th>\n",
       "      <th>unit_of_wage_1</th>\n",
       "      <th>unit_of_wage_2</th>\n",
       "      <th>unit_of_wage_3</th>\n",
       "      <th>requires_job_training_1</th>\n",
       "      <th>case_status</th>\n",
       "      <th>class_pred</th>\n",
       "    </tr>\n",
       "  </thead>\n",
       "  <tbody>\n",
       "    <tr>\n",
       "      <th>0</th>\n",
       "      <td>567</td>\n",
       "      <td>1992</td>\n",
       "      <td>26842.9100</td>\n",
       "      <td>1.0</td>\n",
       "      <td>0.0</td>\n",
       "      <td>0.0</td>\n",
       "      <td>0.0</td>\n",
       "      <td>0.0</td>\n",
       "      <td>1.0</td>\n",
       "      <td>1.0</td>\n",
       "      <td>...</td>\n",
       "      <td>0.0</td>\n",
       "      <td>0.0</td>\n",
       "      <td>0.0</td>\n",
       "      <td>0.0</td>\n",
       "      <td>0.0</td>\n",
       "      <td>0.0</td>\n",
       "      <td>1.0</td>\n",
       "      <td>0.0</td>\n",
       "      <td>1</td>\n",
       "      <td>1</td>\n",
       "    </tr>\n",
       "    <tr>\n",
       "      <th>1</th>\n",
       "      <td>619</td>\n",
       "      <td>1938</td>\n",
       "      <td>66419.9800</td>\n",
       "      <td>0.0</td>\n",
       "      <td>0.0</td>\n",
       "      <td>0.0</td>\n",
       "      <td>1.0</td>\n",
       "      <td>0.0</td>\n",
       "      <td>0.0</td>\n",
       "      <td>1.0</td>\n",
       "      <td>...</td>\n",
       "      <td>0.0</td>\n",
       "      <td>0.0</td>\n",
       "      <td>0.0</td>\n",
       "      <td>0.0</td>\n",
       "      <td>0.0</td>\n",
       "      <td>0.0</td>\n",
       "      <td>1.0</td>\n",
       "      <td>0.0</td>\n",
       "      <td>1</td>\n",
       "      <td>1</td>\n",
       "    </tr>\n",
       "    <tr>\n",
       "      <th>2</th>\n",
       "      <td>2635</td>\n",
       "      <td>2005</td>\n",
       "      <td>887.2921</td>\n",
       "      <td>1.0</td>\n",
       "      <td>0.0</td>\n",
       "      <td>0.0</td>\n",
       "      <td>0.0</td>\n",
       "      <td>0.0</td>\n",
       "      <td>0.0</td>\n",
       "      <td>1.0</td>\n",
       "      <td>...</td>\n",
       "      <td>0.0</td>\n",
       "      <td>0.0</td>\n",
       "      <td>0.0</td>\n",
       "      <td>1.0</td>\n",
       "      <td>0.0</td>\n",
       "      <td>0.0</td>\n",
       "      <td>0.0</td>\n",
       "      <td>0.0</td>\n",
       "      <td>1</td>\n",
       "      <td>1</td>\n",
       "    </tr>\n",
       "    <tr>\n",
       "      <th>3</th>\n",
       "      <td>3184</td>\n",
       "      <td>1986</td>\n",
       "      <td>49435.8000</td>\n",
       "      <td>1.0</td>\n",
       "      <td>0.0</td>\n",
       "      <td>0.0</td>\n",
       "      <td>0.0</td>\n",
       "      <td>0.0</td>\n",
       "      <td>1.0</td>\n",
       "      <td>1.0</td>\n",
       "      <td>...</td>\n",
       "      <td>0.0</td>\n",
       "      <td>0.0</td>\n",
       "      <td>0.0</td>\n",
       "      <td>0.0</td>\n",
       "      <td>0.0</td>\n",
       "      <td>0.0</td>\n",
       "      <td>1.0</td>\n",
       "      <td>1.0</td>\n",
       "      <td>1</td>\n",
       "      <td>1</td>\n",
       "    </tr>\n",
       "    <tr>\n",
       "      <th>4</th>\n",
       "      <td>4681</td>\n",
       "      <td>1928</td>\n",
       "      <td>49865.1900</td>\n",
       "      <td>0.0</td>\n",
       "      <td>1.0</td>\n",
       "      <td>0.0</td>\n",
       "      <td>0.0</td>\n",
       "      <td>0.0</td>\n",
       "      <td>1.0</td>\n",
       "      <td>1.0</td>\n",
       "      <td>...</td>\n",
       "      <td>1.0</td>\n",
       "      <td>0.0</td>\n",
       "      <td>0.0</td>\n",
       "      <td>0.0</td>\n",
       "      <td>0.0</td>\n",
       "      <td>0.0</td>\n",
       "      <td>1.0</td>\n",
       "      <td>0.0</td>\n",
       "      <td>0</td>\n",
       "      <td>1</td>\n",
       "    </tr>\n",
       "  </tbody>\n",
       "</table>\n",
       "<p>5 rows × 23 columns</p>\n",
       "</div>"
      ],
      "text/plain": [
       "   no_of_employees  yr_of_estab  prevailing_wage  continent_1  continent_2  \\\n",
       "0              567         1992       26842.9100          1.0          0.0   \n",
       "1              619         1938       66419.9800          0.0          0.0   \n",
       "2             2635         2005         887.2921          1.0          0.0   \n",
       "3             3184         1986       49435.8000          1.0          0.0   \n",
       "4             4681         1928       49865.1900          0.0          1.0   \n",
       "\n",
       "   continent_3  continent_4  continent_5  has_job_experience_1  \\\n",
       "0          0.0          0.0          0.0                   1.0   \n",
       "1          0.0          1.0          0.0                   0.0   \n",
       "2          0.0          0.0          0.0                   0.0   \n",
       "3          0.0          0.0          0.0                   1.0   \n",
       "4          0.0          0.0          0.0                   1.0   \n",
       "\n",
       "   full_time_position_1  ...  region_of_employment_4  education_of_employee_1  \\\n",
       "0                   1.0  ...                     0.0                      0.0   \n",
       "1                   1.0  ...                     0.0                      0.0   \n",
       "2                   1.0  ...                     0.0                      0.0   \n",
       "3                   1.0  ...                     0.0                      0.0   \n",
       "4                   1.0  ...                     1.0                      0.0   \n",
       "\n",
       "   education_of_employee_2  education_of_employee_3  unit_of_wage_1  \\\n",
       "0                      0.0                      0.0             0.0   \n",
       "1                      0.0                      0.0             0.0   \n",
       "2                      0.0                      1.0             0.0   \n",
       "3                      0.0                      0.0             0.0   \n",
       "4                      0.0                      0.0             0.0   \n",
       "\n",
       "   unit_of_wage_2  unit_of_wage_3  requires_job_training_1  case_status  \\\n",
       "0             0.0             1.0                      0.0            1   \n",
       "1             0.0             1.0                      0.0            1   \n",
       "2             0.0             0.0                      0.0            1   \n",
       "3             0.0             1.0                      1.0            1   \n",
       "4             0.0             1.0                      0.0            0   \n",
       "\n",
       "   class_pred  \n",
       "0           1  \n",
       "1           1  \n",
       "2           1  \n",
       "3           1  \n",
       "4           1  \n",
       "\n",
       "[5 rows x 23 columns]"
      ]
     },
     "execution_count": 126,
     "metadata": {},
     "output_type": "execute_result"
    }
   ],
   "source": [
    "columns=np.round(prediction,0)\n",
    "predictions = pd.DataFrame(columns)\n",
    "test_y = validation['case_status']\n",
    "actual = test_y\n",
    "test_x = validation.drop(columns=['case_status'],axis=1)\n",
    "predictions.columns =['class_pred']\n",
    "# Concatenate them into a single dataframe\n",
    "output_tune= pd.concat([test_x.reset_index(drop=True),actual.reset_index(drop=True),predictions.reset_index(drop=True)],axis=1)\n",
    "output_tune['class_pred'] = output['class_pred'].astype(int)\n",
    "output_tune.head()"
   ]
  },
  {
   "cell_type": "markdown",
   "id": "f73350fe-0fc6-4f5e-8440-59dab1911fb3",
   "metadata": {
    "tags": []
   },
   "source": [
    "#### Evaluate the tuned model (compare performace with baseline model)"
   ]
  },
  {
   "cell_type": "markdown",
   "id": "93c84f01-70bb-4295-8aab-24c47174c03e",
   "metadata": {},
   "source": [
    "Confusion Matrix"
   ]
  },
  {
   "cell_type": "code",
   "execution_count": 127,
   "id": "b08d4c3c-e9df-47a7-9fa3-5ce6622a366d",
   "metadata": {
    "tags": []
   },
   "outputs": [
    {
     "name": "stdout",
     "output_type": "stream",
     "text": [
      "[[ 790  842]\n",
      " [ 506 2958]]\n"
     ]
    }
   ],
   "source": [
    "# Evaluate the model using a confusion matrix\n",
    "matrix = confusion_matrix(output_tune['case_status'], output_tune['class_pred'])\n",
    "# Display matrix\n",
    "print(matrix)\n",
    "true_neg = matrix[0][0]\n",
    "fals_pos = matrix[0][1]\n",
    "fals_neg = matrix[1][0]\n",
    "true_pos = matrix[1][1]"
   ]
  },
  {
   "cell_type": "markdown",
   "id": "c85a0d21-4f81-4764-a251-9898c6d4c8da",
   "metadata": {
    "tags": []
   },
   "source": [
    "Calulate all performance metrics - after tuning\n"
   ]
  },
  {
   "cell_type": "code",
   "execution_count": 128,
   "id": "43bc98f9-0cd2-4fc0-b72a-a0b316ef02c2",
   "metadata": {
    "tags": []
   },
   "outputs": [],
   "source": [
    "accuracy_tuned = (true_pos + true_neg) / (true_pos + fals_pos + fals_neg + true_neg)\n",
    "precision_tuned = true_pos / (true_pos + fals_pos)\n",
    "recall_tuned = true_pos / (true_pos + fals_neg)\n",
    "f1_tuned=(2*precision_tuned*recall_tuned)/(precision_tuned+recall_tuned)"
   ]
  },
  {
   "cell_type": "code",
   "execution_count": 133,
   "id": "a6411ab5",
   "metadata": {
    "tags": []
   },
   "outputs": [
    {
     "name": "stdout",
     "output_type": "stream",
     "text": [
      "The improvment of the performance metrics  with hyperparameters tuning\n",
      "accuracy:  before:0.74, after:0.74, %increment:0.00%\n",
      "precision: before:0.48, after:0.78, %increment:29.44%\n",
      "recall:    before:0.61, after:0.85, %increment:24.44%\n",
      "f1   :    before:0.54, after:0.81, %increment:27.48%\n"
     ]
    }
   ],
   "source": [
    "# Display performance metrics before & after tuning, and the % increment achieved\n",
    "print(\"The improvment of the performance metrics  with hyperparameters tuning\")\n",
    "print(\"accuracy:  before:{:0.2f}, after:{:0.2f}, %increment:{:0.2f}%\".\n",
    "      format(accuracy,accuracy_tuned,(accuracy_tuned-accuracy)*100))\n",
    "print(\"precision: before:{:0.2f}, after:{:0.2f}, %increment:{:0.2f}%\".\n",
    "      format(precision,precision_tuned,(precision_tuned-precision)*100))\n",
    "print(\"recall:    before:{:0.2f}, after:{:0.2f}, %increment:{:0.2f}%\".\n",
    "      format(recall,recall_tuned,(recall_tuned-recall)*100))\n",
    "print(\"f1   :    before:{:0.2f}, after:{:0.2f}, %increment:{:0.2f}%\".\n",
    "      format(f1,f1_tuned,(f1_tuned-f1)*100))"
   ]
  },
  {
   "cell_type": "markdown",
   "id": "636168e5-208a-405f-b212-46d919cc7ffd",
   "metadata": {
    "tags": []
   },
   "source": [
    "### Delete the Endpoint\n"
   ]
  },
  {
   "cell_type": "code",
   "execution_count": 134,
   "id": "36515aca-7669-45c8-99c2-c23b5e9f26d8",
   "metadata": {
    "tags": []
   },
   "outputs": [],
   "source": [
    "tuned_xgb_predictor.delete_endpoint(delete_endpoint_config=True)\n",
    "xgb_predictor.delete_endpoint(delete_endpoint_config=True)\n"
   ]
  },
  {
   "cell_type": "code",
   "execution_count": null,
   "id": "650a8bd9-5b59-43a7-8b14-b583e15e7075",
   "metadata": {
    "tags": []
   },
   "outputs": [],
   "source": [
    "# check if the endpoints are there and delete them if they still . \n",
    "# sm_boto3.delete_endpoint(EndpointName=xgb_predictor.endpoint)\n",
    "# sm_boto3.delete_endpoint(EndpointName=tuned_xgb_predictor.endpoint)\n"
   ]
  },
  {
   "cell_type": "markdown",
   "id": "cbbc7174-7589-45c5-9b08-3de45c536bce",
   "metadata": {
    "tags": []
   },
   "source": [
    "## Insights and recommendation \n",
    "\n",
    "* The percentage of visa certified is higher for African and European.  \n",
    "* Yearly wage has highest Visa approval while the hourly waves has the lowest visa approval.\n",
    "* Yes, having work experience increases the probability to have an approved Visa.\n",
    "* The higher education the applicants, the most likely to be granted the visa\n",
    "* Master degree will be preferable in northeast and south while PHD will be preferable in west and north east.\n",
    "* If you applied to work in midwest or south you have better apportuinty to get cetified visa.\n",
    "* You better have expernce and you donot need training if you looking to have certified visa."
   ]
  },
  {
   "cell_type": "code",
   "execution_count": null,
   "id": "e04e84b8-0d78-49b6-945e-d3995f7417a1",
   "metadata": {},
   "outputs": [],
   "source": []
  }
 ],
 "metadata": {
  "kernelspec": {
   "display_name": "Python 3 (Data Science)",
   "language": "python",
   "name": "python3__SAGEMAKER_INTERNAL__arn:aws:sagemaker:us-east-1:081325390199:image/datascience-1.0"
  },
  "language_info": {
   "codemirror_mode": {
    "name": "ipython",
    "version": 3
   },
   "file_extension": ".py",
   "mimetype": "text/x-python",
   "name": "python",
   "nbconvert_exporter": "python",
   "pygments_lexer": "ipython3",
   "version": "3.7.10"
  },
  "vscode": {
   "interpreter": {
    "hash": "bd8679fc52dd5398e4f98a567250dce312eab9afe2f425d4935b3cd22e2107a1"
   }
  }
 },
 "nbformat": 4,
 "nbformat_minor": 5
}
